{
  "nbformat": 4,
  "nbformat_minor": 0,
  "metadata": {
    "colab": {
      "provenance": []
    },
    "kernelspec": {
      "name": "python3",
      "display_name": "Python 3"
    },
    "language_info": {
      "name": "python"
    }
  },
  "cells": [
    {
      "cell_type": "code",
      "execution_count": 1,
      "metadata": {
        "colab": {
          "base_uri": "https://localhost:8080/"
        },
        "id": "Bau8LV3CFubh",
        "outputId": "5ff19504-47a8-4c7d-8af0-78abc9b03736"
      },
      "outputs": [
        {
          "output_type": "stream",
          "name": "stdout",
          "text": [
            "a) Tính A + B và 2A + 3B\n",
            "A + B = [2 3 1 6]\n",
            "2A + 3B = [ 3 11  2 14]\n",
            "\n",
            "b) Tích vô hướng A · B và góc giữa hai vector\n",
            "A · B = -5\n",
            "Góc giữa A và B (độ) = 99.594\n",
            "\n",
            "c) Tính tích ma trận C * C^T\n",
            "C * C^T =\n",
            " [[14 -8 13]\n",
            " [-8 21 -2]\n",
            " [13 -2 29]]\n"
          ]
        }
      ],
      "source": [
        "#bai 1\n",
        "import numpy as np\n",
        "A = np.array([3, -2, 1, 4])\n",
        "B = np.array([-1, 5, 0, 2])\n",
        "C = np.array([\n",
        "    [2, -1, 3],\n",
        "    [1, 4, -2],\n",
        "    [0, 2, 5]\n",
        "])\n",
        "\n",
        "print(\"a) Tính A + B và 2A + 3B\")\n",
        "A_plus_B = A + B\n",
        "linear_combination = 2*A + 3*B\n",
        "print(\"A + B =\", A_plus_B)\n",
        "print(\"2A + 3B =\", linear_combination)\n",
        "\n",
        "print(\"\\nb) Tích vô hướng A · B và góc giữa hai vector\")\n",
        "dot_product = np.dot(A, B)\n",
        "norm_A = np.linalg.norm(A)\n",
        "norm_B = np.linalg.norm(B)\n",
        "cos_theta = dot_product / (norm_A * norm_B)\n",
        "angle_rad = np.arccos(cos_theta)\n",
        "angle_deg = np.degrees(angle_rad)\n",
        "print(\"A · B =\", dot_product)\n",
        "print(\"Góc giữa A và B (độ) =\", round(angle_deg, 3))\n",
        "\n",
        "print(\"\\nc) Tính tích ma trận C * C^T\")\n",
        "C_transpose = C.T\n",
        "C_mul_CT = np.dot(C, C_transpose)\n",
        "print(\"C * C^T =\\n\", C_mul_CT)\n"
      ]
    },
    {
      "cell_type": "code",
      "source": [
        "#cau 2\n",
        "import numpy as np\n",
        "from numpy.linalg import det, matrix_rank\n",
        "\n",
        "M = np.array([\n",
        "    [2, -1, 3, 0],\n",
        "    [1, 4, -2, 5],\n",
        "    [0, 2, 6, -3],\n",
        "    [-1, 0, 1, 4]\n",
        "])\n",
        "\n",
        "N = np.array([\n",
        "    [1, 3, -2, 0],\n",
        "    [4, -1, 5, 2],\n",
        "    [0, 2, 3, -1],\n",
        "    [-3, 1, 0, 4]\n",
        "])\n",
        "print(\"a)\")\n",
        "MN = M @ N\n",
        "print(\"M · N =\\n\", MN)\n",
        "print(\"\\nb)\")\n",
        "print(\"det(M) =\", round(det(M), 3))\n",
        "print(\"\\nc)\")\n",
        "print(\"Rank(N) =\", matrix_rank(N))\n"
      ],
      "metadata": {
        "colab": {
          "base_uri": "https://localhost:8080/"
        },
        "id": "qrIefhc3F7z8",
        "outputId": "2cc760ee-a17d-4b44-9116-e39a74d38ff2"
      },
      "execution_count": 2,
      "outputs": [
        {
          "output_type": "stream",
          "name": "stdout",
          "text": [
            "a)\n",
            "M · N =\n",
            " [[ -2  13   0  -5]\n",
            " [  2   0  12  30]\n",
            " [ 17   7  28 -14]\n",
            " [-13   3   5  15]]\n",
            "\n",
            "b)\n",
            "det(M) = 409.0\n",
            "\n",
            "c)\n",
            "Rank(N) = 4\n"
          ]
        }
      ]
    },
    {
      "cell_type": "code",
      "source": [
        "#cau 3\n",
        "import numpy as np\n",
        "from numpy.linalg import inv, det\n",
        "\n",
        "P = np.array([\n",
        "    [3, -1, 0, 2],\n",
        "    [1, 4, -2, 0],\n",
        "    [0, 1, 5, -1],\n",
        "    [2, 0, 1, 3]\n",
        "])\n",
        "b = np.array([6, 8, 3, 7])\n",
        "print(\"a)\")\n",
        "if det(P) != 0:\n",
        "    P_inv = inv(P)\n",
        "    print(\"P^(-1) =\\n\", np.round(P_inv, 3))\n",
        "else:\n",
        "    print(\"Ma trận không khả nghịch\")\n",
        "print(\"\\nb)\")\n",
        "x = P_inv @ b\n",
        "print(\"Nghiệm x =\", np.round(x, 3))\n",
        "print(\"\\nc)\")\n",
        "print(\"P · x =\", np.round(P @ x, 3))\n",
        "print(\"b =\", b)\n"
      ],
      "metadata": {
        "colab": {
          "base_uri": "https://localhost:8080/"
        },
        "id": "-iKHNGyyGdhG",
        "outputId": "629f8b5f-0f06-4cc8-967d-a3cfd554ddc0"
      },
      "execution_count": 3,
      "outputs": [
        {
          "output_type": "stream",
          "name": "stdout",
          "text": [
            "a)\n",
            "P^(-1) =\n",
            " [[ 0.5    0.1    0.1   -0.3  ]\n",
            " [-0.143  0.2    0.057  0.114]\n",
            " [-0.036 -0.05   0.164  0.079]\n",
            " [-0.321 -0.05  -0.121  0.507]]\n",
            "\n",
            "b)\n",
            "Nghiệm x = [2.    1.714 0.429 0.857]\n",
            "\n",
            "c)\n",
            "P · x = [6. 8. 3. 7.]\n",
            "b = [6 8 3 7]\n"
          ]
        }
      ]
    },
    {
      "cell_type": "code",
      "source": [
        "#cau 4\n",
        "import numpy as np\n",
        "from numpy.linalg import eig, norm\n",
        "\n",
        "Q = np.array([\n",
        "    [5, -2, 1],\n",
        "    [0, 3, -1],\n",
        "    [2, 0, 4]\n",
        "])\n",
        "print(\"a)\")\n",
        "eigvals = np.linalg.eigvals(Q)\n",
        "print(\"Giá trị riêng:\", np.round(eigvals, 3))\n",
        "print(\"\\nb)\")\n",
        "vals, vecs = eig(Q)\n",
        "print(\"Vector riêng:\\n\", np.round(vecs, 3))\n",
        "print(\"\\nc)\")\n",
        "for i, v in enumerate(vecs.T):\n",
        "    v_norm = v / norm(v)\n",
        "    print(f\"v{i+1} =\", np.round(v_norm, 3))\n"
      ],
      "metadata": {
        "colab": {
          "base_uri": "https://localhost:8080/"
        },
        "id": "_Mz91n3-GhMe",
        "outputId": "72d573c0-2018-4796-97aa-2f920cc70983"
      },
      "execution_count": 4,
      "outputs": [
        {
          "output_type": "stream",
          "name": "stdout",
          "text": [
            "a)\n",
            "Giá trị riêng: [6.355+0.j    2.822+1.077j 2.822-1.077j]\n",
            "\n",
            "b)\n",
            "Vector riêng:\n",
            " [[ 0.748+0.j    -0.374+0.342j -0.374-0.342j]\n",
            " [-0.189+0.j     0.095+0.574j  0.095-0.574j]\n",
            " [ 0.636+0.j     0.636+0.j     0.636-0.j   ]]\n",
            "\n",
            "c)\n",
            "v1 = [ 0.748+0.j -0.189+0.j  0.636+0.j]\n",
            "v2 = [-0.374+0.342j  0.095+0.574j  0.636+0.j   ]\n",
            "v3 = [-0.374-0.342j  0.095-0.574j  0.636-0.j   ]\n"
          ]
        }
      ]
    },
    {
      "cell_type": "code",
      "source": [
        "#cau 5\n",
        "import numpy as np\n",
        "from numpy.linalg import inv, norm, det\n",
        "\n",
        "R = np.array([\n",
        "    [4, -1, 2],\n",
        "    [1, 3, -2],\n",
        "    [0, 2, 5]\n",
        "])\n",
        "b = np.array([12, 5, 9])\n",
        "print(\"a)\")\n",
        "x1 = np.linalg.solve(R, b)\n",
        "print(\"Nghiệm x1 =\", x1)\n",
        "print(\"\\nb)\")\n",
        "if det(R) != 0:\n",
        "    R_inv = inv(R)\n",
        "    x2 = R_inv @ b\n",
        "    print(\"R khả nghịch. Nghịch đảo R:\\n\", np.round(R_inv, 3))\n",
        "    print(\"Nghiệm x2 =\", np.round(x2, 3))\n",
        "    print(\"So sánh: x1 == x2?\", np.allclose(x1, x2))\n",
        "else:\n",
        "    print(\"R không khả nghịch.\")\n",
        "print(\"\\nc)\")\n",
        "fro_norm = norm(R, 'fro')\n",
        "print(\"Frobenius norm =\", round(fro_norm, 3))\n"
      ],
      "metadata": {
        "colab": {
          "base_uri": "https://localhost:8080/"
        },
        "id": "lrHYtLfNGl2q",
        "outputId": "304f43ed-93c2-4f64-ee9a-bc7fe3794648"
      },
      "execution_count": 6,
      "outputs": [
        {
          "output_type": "stream",
          "name": "stdout",
          "text": [
            "a)\n",
            "Nghiệm x1 = [2.78823529 1.52941176 1.18823529]\n",
            "\n",
            "b)\n",
            "R khả nghịch. Nghịch đảo R:\n",
            " [[ 0.224  0.106 -0.047]\n",
            " [-0.059  0.235  0.118]\n",
            " [ 0.024 -0.094  0.153]]\n",
            "Nghiệm x2 = [2.788 1.529 1.188]\n",
            "So sánh: x1 == x2? True\n",
            "\n",
            "c)\n",
            "Frobenius norm = 8.0\n"
          ]
        }
      ]
    }
  ]
}