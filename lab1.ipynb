{
  "cells": [
    {
      "cell_type": "code",
      "execution_count": 2,
      "metadata": {
        "colab": {
          "base_uri": "https://localhost:8080/"
        },
        "id": "LaySI2E35ElB",
        "outputId": "c11f9c7c-b996-42b2-b1af-ae616525ddd2"
      },
      "outputs": [
        {
          "data": {
            "text/plain": [
              "array([ 2.,  6., 10.])"
            ]
          },
          "execution_count": 2,
          "metadata": {},
          "output_type": "execute_result"
        }
      ],
      "source": [
        "#Thư viện Numpy\n",
        "import numpy as np\n",
        "vec1 = np.array([1., 3., 5.])\n",
        "vec1 * 2\n",
        "#Kết quả: array([ 2.,  6., 10.])\n",
        "vec1 * vec1\n",
        "#Kết quả: array([ 1.,  9., 25.])\n",
        "vec1 / 2\n",
        "#Kết quả: array([0.5, 1.5, 2.5])\n",
        "vec1 + vec1\n",
        "# Kết quả: array([ 2.,  6., 10.])\n",
        "vec2 = np.array([2., 4.])\n",
        "vec1 + vec2\n",
        "#Kết quả: Lỗi\n",
        "vec3 = np.array([2., 4., 6.])\n",
        "vec1 + vec3\n",
        "#Kết quả: array([ 3.,  7., 11.])\n",
        "vec1 / vec3\n",
        "#Kết quả: array([0.5 , 0.75, 0.83333333])\n",
        "vec1 * vec3\n",
        "#Kết quả: array([ 2., 12., 30.])\n",
        "2 * vec1 + 5 * vec3\n",
        "#Kết quả: array([12., 26., 40.])\n",
        "vec3[2]\n",
        "#Kết quả: 6.0\n",
        "vec4 = np.linspace(0, 20, 5)\n",
        "vec4\n",
        "#Kết quả: array([ 0.,  5., 10., 15., 20.])\n",
        "vec5 = np.zeros(5)\n",
        "#Kết quả: array([0., 0., 0., 0., 0.])\n",
        "vec6 = np.ones(5)\n",
        "#Kết quả: array([1., 1., 1., 1., 1.])\n",
        "vec7 = np.empty(5)\n",
        "#Kết quả: array([...])\n",
        "np.random.random(5)\n",
        "#Kết quả: array([...])\n"
      ]
    },
    {
      "cell_type": "code",
      "execution_count": null,
      "metadata": {
        "id": "vxZyvllu86vw"
      },
      "outputs": [],
      "source": [
        "import numpy as np\n",
        "v = np.array([1., 3., 5.])\n",
        "np.sum(v)\n",
        "#Kết quả: 9.0\n",
        "v.shape\n",
        "#Kết quả: (3,)\n",
        "v.transpose()\n",
        "#Kết quả: array([1., 3., 5.])\n",
        "v1 = v[:2]\n",
        "v1\n",
        "#Kết quả: array([1., 3.])\n",
        "v[0] = 5\n",
        "v\n",
        "# Kết quả: array([5., 3., 5.])\n",
        "v1\n",
        "# Kết quả: array([5., 3.])\n",
        "v1[:2] = [1., 2]\n",
        "v\n",
        "# Kết quả: array([1., 2., 5.])\n",
        "v3 = 2 * v[:2] + v1 * 3\n",
        "v3\n",
        "#Kết quả: array([5., 10.])\n",
        "v1 = [4, 6]\n",
        "v3\n",
        "#Kết quả vẫn: array([5., 10.])\n",
        "v\n",
        "#Kết quả: array([1., 2., 5.])\n",
        "v + 10.0\n",
        "#Kết quả: array([11., 12., 15.])\n",
        "np.sqrt(v)\n",
        "#Kết quả: array([1.        , 1.41421356, 2.23606798])\n",
        "np.cos(v)\n",
        "#Kết quả: array([ 0.54030231, -0.41614684,  0.28366219])\n",
        "np.sin(v)\n",
        "#Kết quả: array([0.84147098, 0.90929743, 0.95892427])\n"
      ]
    },
    {
      "cell_type": "code",
      "execution_count": 3,
      "metadata": {
        "colab": {
          "base_uri": "https://localhost:8080/"
        },
        "id": "63iKqLeW-We1",
        "outputId": "49fd8039-c5d4-4802-bd80-1eb27aa06c97"
      },
      "outputs": [
        {
          "name": "stdout",
          "output_type": "stream",
          "text": [
            "[2]\n",
            "[-sqrt(2), sqrt(2)]\n",
            "-sqrt(2)\n",
            "sqrt(2)\n"
          ]
        }
      ],
      "source": [
        "#bai 1\n",
        "from sympy import Symbol, solve\n",
        "x = Symbol('x')\n",
        "bieuthuc = x + 3 - 5\n",
        "print(solve(bieuthuc))\n",
        "bieuthuc = x**2 + 3 - 5\n",
        "nghiemx = solve(bieuthuc)\n",
        "print(nghiemx)        # Toàn bộ nghiệm\n",
        "print(nghiemx[0])     # Nghiệm thứ nhất\n",
        "print(nghiemx[1])     # Nghiệm thứ hai"
      ]
    },
    {
      "cell_type": "code",
      "execution_count": 4,
      "metadata": {
        "colab": {
          "base_uri": "https://localhost:8080/"
        },
        "id": "8hKEBy0H-4-q",
        "outputId": "34c10141-3daf-4da9-e62c-a32d8d525d34"
      },
      "outputs": [
        {
          "name": "stdout",
          "output_type": "stream",
          "text": [
            "[{x: -8}, {x: -1}]\n",
            "[{x: -1/2 - sqrt(39)*I/2}, {x: -1/2 + sqrt(39)*I/2}]\n"
          ]
        }
      ],
      "source": [
        "#bai 2\n",
        "from sympy import Symbol, solve\n",
        "x = Symbol('x')\n",
        "ptb2 = x**2 + 9*x + 8\n",
        "nghiem = solve(ptb2, dict=True)\n",
        "print(nghiem)\n",
        "ptb2 = x**2 + x + 10\n",
        "nghiemx = solve(ptb2, dict=True)\n",
        "print(nghiemx)\n"
      ]
    },
    {
      "cell_type": "code",
      "execution_count": null,
      "metadata": {
        "id": "zgO3RUoQ_jiQ"
      },
      "outputs": [],
      "source": [
        "#bai 3\n",
        "from sympy import Symbol, solve\n",
        "# Khai báo các biến symbol\n",
        "x = Symbol('x')\n",
        "a = Symbol('a')\n",
        "b = Symbol('b')\n",
        "c = Symbol('c')\n",
        "# Định nghĩa phương trình bậc 2 tổng quát\n",
        "ptb2 = a*x**2 + b*x + c\n",
        "# Giải phương trình theo biến x, kết quả dạng dict\n",
        "nghiem = solve(ptb2, x, dict=True)\n",
        "# In kết quả\n",
        "print(nghiem)\n"
      ]
    },
    {
      "cell_type": "code",
      "execution_count": null,
      "metadata": {
        "id": "_waVNmZd_pQh"
      },
      "outputs": [],
      "source": [
        "#bai 4\n",
        "from sympy import Symbol, solve\n",
        "# Khai báo biến\n",
        "x = Symbol('x')\n",
        "y = Symbol('y')\n",
        "# Định nghĩa hai phương trình\n",
        "pt1 = 2*x + 3*y - 12\n",
        "pt2 = 3*x - 2*y - 5\n",
        "# Giải hệ phương trình, trả kết quả dạng dict\n",
        "nghiem = solve((pt1, pt2), dict=True)\n",
        "# In kết quả nghiệm\n",
        "print(nghiem)\n",
        "# Lấy nghiệm đầu tiên trong danh sách nghiệm\n",
        "nghiem_1 = nghiem[0]\n",
        "# Thay nghiệm vào từng phương trình để kiểm tra\n",
        "kiemtra1 = pt1.subs({x: nghiem_1[x], y: nghiem_1[y]})\n",
        "kiemtra2 = pt2.subs({x: nghiem_1[x], y: nghiem_1[y]})\n",
        "# In kết quả kiểm tra\n",
        "print(\"Giá trị pt1 sau khi thay:\", kiemtra1)\n",
        "print(\"Giá trị pt2 sau khi thay:\", kiemtra2)\n"
      ]
    },
    {
      "cell_type": "code",
      "execution_count": 5,
      "metadata": {
        "colab": {
          "base_uri": "https://localhost:8080/"
        },
        "id": "kMALwMVE_5hE",
        "outputId": "4d28317b-9d5e-4bc0-99be-c91e47b2e273"
      },
      "outputs": [
        {
          "name": "stdout",
          "output_type": "stream",
          "text": [
            "Ma trận M1:\n",
            " [[ 9 12]\n",
            " [23 30]]\n",
            "M1.dot(u): [30 76]\n",
            "u.dot(M1): [41 54]\n",
            "np.dot(M1, u): [30 76]\n",
            "np.dot(u, M1): [41 54]\n",
            "mat1 (ma trận toàn 0):\n",
            " [[0. 0. 0. 0. 0.]\n",
            " [0. 0. 0. 0. 0.]\n",
            " [0. 0. 0. 0. 0.]\n",
            " [0. 0. 0. 0. 0.]\n",
            " [0. 0. 0. 0. 0.]]\n",
            "mat2 (ma trận toàn 1):\n",
            " [[1. 1. 1. 1. 1.]\n",
            " [1. 1. 1. 1. 1.]\n",
            " [1. 1. 1. 1. 1.]\n",
            " [1. 1. 1. 1. 1.]\n",
            " [1. 1. 1. 1. 1.]]\n",
            "mat3 = mat1 + 2 * mat2:\n",
            " [[2. 2. 2. 2. 2.]\n",
            " [2. 2. 2. 2. 2.]\n",
            " [2. 2. 2. 2. 2.]\n",
            " [2. 2. 2. 2. 2.]\n",
            " [2. 2. 2. 2. 2.]]\n",
            "mat3 sau khi đổi giá trị [3][2] = 10:\n",
            " [[ 2.  2.  2.  2.  2.]\n",
            " [ 2.  2.  2.  2.  2.]\n",
            " [ 2.  2.  2.  2.  2.]\n",
            " [ 2.  2. 10.  2.  2.]\n",
            " [ 2.  2.  2.  2.  2.]]\n",
            "mat4 có thay đổi theo mat3 không?:\n",
            " [[ 2.  2.  2.  2.  2.]\n",
            " [ 2.  2.  2.  2.  2.]\n",
            " [ 2.  2.  2.  2.  2.]\n",
            " [ 2.  2. 10.  2.  2.]\n",
            " [ 2.  2.  2.  2.  2.]]\n",
            "mat3 sau khi đổi [3][2] = 20:\n",
            " [[ 2.  2.  2.  2.  2.]\n",
            " [ 2.  2.  2.  2.  2.]\n",
            " [ 2.  2.  2.  2.  2.]\n",
            " [ 2.  2. 20.  2.  2.]\n",
            " [ 2.  2.  2.  2.  2.]]\n",
            "mat5 có thay đổi theo không?:\n",
            " [[ 2.  2.  2.  2.  2.]\n",
            " [ 2.  2.  2.  2.  2.]\n",
            " [ 2.  2.  2.  2.  2.]\n",
            " [ 2.  2. 10.  2.  2.]\n",
            " [ 2.  2.  2.  2.  2.]]\n"
          ]
        }
      ],
      "source": [
        "#bai 5\n",
        "import numpy as np\n",
        "# Ma trận M1\n",
        "M1 = np.array([[9, 12], [23, 30]])\n",
        "print(\"Ma trận M1:\\n\", M1)\n",
        "# Vector u\n",
        "u = np.array([2, 1])\n",
        "# Tích M1.u\n",
        "tichM1u = M1.dot(u)\n",
        "print(\"M1.dot(u):\", tichM1u)\n",
        "# Giải thích: mỗi dòng của M1 nhân với vector u theo quy tắc nhân ma trận – vector\n",
        "# [9*2 + 12*1 = 30, 23*2 + 30*1 = 76]\n",
        "# Tích u.M1\n",
        "tichuM1 = u.dot(M1)\n",
        "print(\"u.dot(M1):\", tichuM1)\n",
        "# Giải thích: vector u nhân từng cột của M1 – kết quả khác chiều với M1.dot(u)\n",
        "# [2*9 + 1*23 = 41, 2*12 + 1*30 = 54]\n",
        "# Kiểm tra với np.dot\n",
        "print(\"np.dot(M1, u):\", np.dot(M1, u))\n",
        "print(\"np.dot(u, M1):\", np.dot(u, M1))\n",
        "mat1 = np.zeros([5,5])\n",
        "print(\"mat1 (ma trận toàn 0):\\n\", mat1)\n",
        "mat2 = np.ones([5,5])\n",
        "print(\"mat2 (ma trận toàn 1):\\n\", mat2)\n",
        "mat3 = mat1 + 2 * mat2\n",
        "print(\"mat3 = mat1 + 2 * mat2:\\n\", mat3)\n",
        "# Mỗi phần tử của mat2 được nhân 2 rồi cộng với 0 -> ra ma trận toàn số 2\n",
        "mat4 = mat3\n",
        "mat3[3][2] = 10\n",
        "print(\"mat3 sau khi đổi giá trị [3][2] = 10:\\n\", mat3)\n",
        "print(\"mat4 có thay đổi theo mat3 không?:\\n\", mat4)\n",
        "# Vì mat4 = mat3 là gán tham chiếu, nên cả 2 đều thay đổi\n",
        "mat5 = np.copy(mat3)\n",
        "mat3[3][2] = 20\n",
        "print(\"mat3 sau khi đổi [3][2] = 20:\\n\", mat3)\n",
        "print(\"mat5 có thay đổi theo không?:\\n\", mat5)\n",
        "# mat5 là bản sao độc lập, không bị ảnh hưởng khi mat3 thay đổi\n"
      ]
    },
    {
      "cell_type": "code",
      "execution_count": 6,
      "metadata": {
        "colab": {
          "base_uri": "https://localhost:8080/"
        },
        "id": "0ykFi18vAsIo",
        "outputId": "037b7e57-1b2d-4c78-984e-842103431e8e"
      },
      "outputs": [
        {
          "name": "stdout",
          "output_type": "stream",
          "text": [
            "\n",
            "Vị trí an toàn cho kịch bản a - chiến dịch 1-2 ngày:\n",
            "[[1 1 1 1 1]\n",
            " [1 1 1 0 0]\n",
            " [0 0 1 1 1]]\n",
            "\n",
            "Vị trí an toàn cho kịch bản b - tập luyện thời bình:\n",
            "[[1 0 1 1 1]\n",
            " [0 1 1 1 0]\n",
            " [1 1 1 0 1]]\n",
            "\n",
            "Vị trí an toàn cho kịch bản c - mùa khô:\n",
            "[[1 1 1 1 1]\n",
            " [0 1 1 1 0]\n",
            " [0 1 1 1 0]]\n",
            "\n",
            "Vị trí an toàn cho kịch bản d - mùa mưa:\n",
            "[[1 0 1 1 1]\n",
            " [0 1 1 0 0]\n",
            " [1 1 1 0 0]]\n",
            "\n",
            "Vị trí an toàn cho kịch bản e - 8 tháng:\n",
            "[[1 0 1 1 1]\n",
            " [0 1 0 0 0]\n",
            " [0 0 0 0 0]]\n"
          ]
        }
      ],
      "source": [
        "#bai 6\n",
        "import numpy as np\n",
        "# Ma trận nguy cơ theo từng yếu tố (5 yếu tố)\n",
        "A = np.array([[1, 1, 0, 0, 1],\n",
        "              [3, 0, 1, 1, 2],\n",
        "              [2, 1, 0, 2, 3]])\n",
        "\n",
        "B = np.array([[1, 2, 2, 1, 1],\n",
        "              [2, 0, 1, 2, 2],\n",
        "              [0, 1, 1, 1, 0]])\n",
        "\n",
        "C = np.array([[0, 5, 1, 1, 1],\n",
        "              [1, 1, 2, 1, 3],\n",
        "              [0, 0, 1, 3, 2]])\n",
        "\n",
        "D = np.array([[3, 1, 1, 0, 1],\n",
        "              [5, 0, 0, 3, 7],\n",
        "              [5, 0, 0, 3, 5]])\n",
        "\n",
        "E = np.array([[0, 0, 0, 0, 0],\n",
        "              [0, 0, 5, 10, 15],\n",
        "              [20, 20, 5, 0, 0]])\n",
        "def is_safe(matrix, threshold=5):\n",
        "    \"\"\"Trả về ma trận boolean thể hiện nơi an toàn (<= threshold)\"\"\"\n",
        "    return matrix <= threshold\n",
        "# a. Chiến dịch 1-2 ngày: chỉ xét lưới E (lộ bí mật)\n",
        "a_risk = E\n",
        "safe_a = is_safe(a_risk)\n",
        "# b. Tập luyện thời bình: xét A (cháy rừng), B (lụ), C (sạt lở)\n",
        "b_risk = A + B + C\n",
        "safe_b = is_safe(b_risk)\n",
        "# c. Mùa khô: bỏ B (lụ), C (sạt), giữ A, D\n",
        "c_risk = A + D\n",
        "safe_c = is_safe(c_risk)\n",
        "# d. Mùa mưa: bỏ A (cháy rừng), dùng B, C, D\n",
        "d_risk = B + C + D\n",
        "safe_d = is_safe(d_risk)\n",
        "# e. Tám tháng: xét đủ cả A+B+C+D+E\n",
        "e_risk = A + B + C + D + E\n",
        "safe_e = is_safe(e_risk)\n",
        "def print_safe_positions(mask, label):\n",
        "    print(f\"\\nVị trí an toàn cho kịch bản {label}:\")\n",
        "    print(mask.astype(int))  # 1 là an toàn, 0 là không\n",
        "print_safe_positions(safe_a, \"a - chiến dịch 1-2 ngày\")\n",
        "print_safe_positions(safe_b, \"b - tập luyện thời bình\")\n",
        "print_safe_positions(safe_c, \"c - mùa khô\")\n",
        "print_safe_positions(safe_d, \"d - mùa mưa\")\n",
        "print_safe_positions(safe_e, \"e - 8 tháng\")\n"
      ]
    }
  ],
  "metadata": {
    "colab": {
      "provenance": []
    },
    "kernelspec": {
      "display_name": "Python 3",
      "name": "python3"
    },
    "language_info": {
      "name": "python"
    }
  },
  "nbformat": 4,
  "nbformat_minor": 0
}
