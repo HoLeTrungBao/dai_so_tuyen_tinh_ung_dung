{
  "nbformat": 4,
  "nbformat_minor": 0,
  "metadata": {
    "colab": {
      "provenance": []
    },
    "kernelspec": {
      "name": "python3",
      "display_name": "Python 3"
    },
    "language_info": {
      "name": "python"
    }
  },
  "cells": [
    {
      "cell_type": "code",
      "execution_count": 1,
      "metadata": {
        "colab": {
          "base_uri": "https://localhost:8080/"
        },
        "id": "5fVM-lkJw3pV",
        "outputId": "16da2aea-cd12-473e-aee6-7f675dcc3163"
      },
      "outputs": [
        {
          "output_type": "stream",
          "name": "stdout",
          "text": [
            "scale(10, v): [30, 50, 70]\n",
            "sumvector(v, w): [5, 9, 13]\n",
            "dotvector(v, w): 68\n",
            "lenvector(w): 56\n"
          ]
        }
      ],
      "source": [
        "#1 Dẫn nhập – Một số hàm về xử lý vector với Python\n",
        "def scale(a, v):\n",
        "    return [a * vi for vi in v]\n",
        "def sumvector(v, w):\n",
        "    return [vi + wi for (vi, wi) in zip(v, w)]\n",
        "def dotvector(v, w):\n",
        "    return sum([vi * wi for (vi, wi) in zip(v, w)])\n",
        "def lenvector(v):\n",
        "    return dotvector(v, v)\n",
        "v = [3, 5, 7]\n",
        "w = [2, 4, 6]\n",
        "print(\"scale(10, v):\", scale(10, v))\n",
        "print(\"sumvector(v, w):\", sumvector(v, w))\n",
        "print(\"dotvector(v, w):\", dotvector(v, w))\n",
        "print(\"lenvector(w):\", lenvector(w))\n"
      ]
    },
    {
      "cell_type": "code",
      "source": [
        "#2 Bài toán ứng dụng 1 – Phân loại tuyến tính\n",
        "import numpy as np\n",
        "scores = np.array([-1, 1, 2, -3, 5, -4])\n",
        "print(\"scores:\", scores)\n",
        "# Kiểm tra điều kiện >= 0\n",
        "print(\"scores >= 0:\", scores >= 0)\n",
        "# Kiểm tra điều kiện < 0\n",
        "print(\"scores < 0:\", scores < 0)\n",
        "# Phân loại theo 2 nhóm\n",
        "labels_2 = np.select([scores >= 0, scores < 0], ['so duong', 'so am'])\n",
        "print(\"Phân loại 2 nhóm:\", labels_2)\n",
        "# Phân loại 3 nhóm:\n",
        "scores = np.array([-1, 1, 2, 0, -3, 5, 0, -4])\n",
        "labels_3 = np.select([scores > 0, scores == 0, scores < 0], ['so duong', 'so 0', 'so am'])\n",
        "print(\"scores:\", scores)\n",
        "print(\"Phân loại 3 nhóm:\", labels_3)\n",
        "\n"
      ],
      "metadata": {
        "id": "Zq_u23wZxmP5"
      },
      "execution_count": null,
      "outputs": []
    },
    {
      "cell_type": "code",
      "source": [
        "#3.1) Cơ bản về xử lý ma trận\n",
        "import numpy as np\n",
        "from scipy import linalg, sparse\n",
        "#1 Khai báo ma trận D\n",
        "D = np.array([[3, 4], [5, 6]])\n",
        "print(\"D =\\n\", D)\n",
        "\n",
        "#2 Tạo ma trận C ngẫu nhiên\n",
        "C = np.array(np.random.random((5, 7)))\n",
        "print(\"C =\\n\", C)\n",
        "\n",
        "#3 Tạo ma trận A ngẫu nhiên\n",
        "A = np.array(np.random.random((2, 2)))\n",
        "print(\"A =\\n\", A)\n",
        "\n",
        "#4\n",
        "b = np.array([(1 + 5j, 2j, 3j), (4, 5, 6)])\n",
        "B = np.asmatrix(b)\n",
        "\n",
        "#5 In b và B\n",
        "print(\"b =\\n\", b)\n",
        "print(\"B =\\n\", B)\n",
        "\n",
        "#6 Chuyển vị ma trận A\n",
        "print(\"A.T =\\n\", A.T)\n",
        "\n",
        "#7 Ma trận nghịch đảo A\n",
        "try:\n",
        "    print(\"A nghịch đảo dùng A_inv =\\n\", np.linalg.inv(A))\n",
        "    print(\"A nghịch đảo dùng linalg.inv =\\n\", linalg.inv(A))\n",
        "except np.linalg.LinAlgError:\n",
        "    print(\"Ma trận A không khả nghịch (det(A) = 0)\")\n",
        "\n",
        "#8 Ma trận dưới từ đường chéo\n",
        "M = np.array([[-1, 3, 2], [0, -2, 1], [1, 5, -2]])\n",
        "M_lower = np.tril(M)\n",
        "print(\"M_lower =\\n\", M_lower)\n",
        "\n",
        "#9 Ma trận trên từ đường chéo\n",
        "M_upper = np.triu(M)\n",
        "print(\"M_upper =\\n\", M_upper)\n",
        "\n",
        "#10 Vector và ma trận đường chéo\n",
        "v_diag = np.diag(M)\n",
        "print(\"Vector đường chéo v_diag =\\n\", v_diag)\n",
        "M_diag = np.diag(v_diag)\n",
        "print(\"Ma trận đường chéo M_diag =\\n\", M_diag)"
      ],
      "metadata": {
        "colab": {
          "base_uri": "https://localhost:8080/"
        },
        "id": "nx-UWLO40sz7",
        "outputId": "7c5f6398-da44-4f7d-d8e7-f8cc50348da2"
      },
      "execution_count": 14,
      "outputs": [
        {
          "output_type": "stream",
          "name": "stdout",
          "text": [
            "D =\n",
            " [[3 4]\n",
            " [5 6]]\n",
            "C =\n",
            " [[0.44654724 0.66730162 0.4214053  0.63670809 0.6314737  0.56093001\n",
            "  0.59965456]\n",
            " [0.72300383 0.27962444 0.74970326 0.32368636 0.02349244 0.06352389\n",
            "  0.26051705]\n",
            " [0.76085176 0.4807061  0.57712504 0.45448825 0.79453518 0.66977648\n",
            "  0.73603746]\n",
            " [0.58561548 0.86223656 0.31558392 0.9397675  0.04116665 0.33705549\n",
            "  0.16547378]\n",
            " [0.21487498 0.1900601  0.9097449  0.84782099 0.93038369 0.62795328\n",
            "  0.69850775]]\n",
            "A =\n",
            " [[0.77152214 0.24780819]\n",
            " [0.35699656 0.03690526]]\n",
            "b =\n",
            " [[1.+5.j 0.+2.j 0.+3.j]\n",
            " [4.+0.j 5.+0.j 6.+0.j]]\n",
            "B =\n",
            " [[1.+5.j 0.+2.j 0.+3.j]\n",
            " [4.+0.j 5.+0.j 6.+0.j]]\n",
            "A.T =\n",
            " [[0.77152214 0.35699656]\n",
            " [0.24780819 0.03690526]]\n",
            "A nghịch đảo dùng A_inv =\n",
            " [[ -0.61515499   4.13058801]\n",
            " [  5.95059305 -12.86010804]]\n",
            "A nghịch đảo dùng linalg.inv =\n",
            " [[ -0.61515499   4.13058801]\n",
            " [  5.95059305 -12.86010804]]\n",
            "M_lower =\n",
            " [[-1  0  0]\n",
            " [ 0 -2  0]\n",
            " [ 1  5 -2]]\n",
            "M_upper =\n",
            " [[-1  3  2]\n",
            " [ 0 -2  1]\n",
            " [ 0  0 -2]]\n",
            "Vector đường chéo v_diag =\n",
            " [-1 -2 -2]\n",
            "Ma trận đường chéo M_diag =\n",
            " [[-1  0  0]\n",
            " [ 0 -2  0]\n",
            " [ 0  0 -2]]\n"
          ]
        }
      ]
    },
    {
      "cell_type": "code",
      "source": [
        "#3.2\n",
        "import numpy as np\n",
        "np.set_printoptions(precision=2, suppress=True)\n",
        "A = np.reshape(np.arange(36.0), (6, 6))\n",
        "print(\"Ma trận A:\")\n",
        "print(A)\n",
        "I6 = np.identity(6)\n",
        "print(\"\\nMa trận đơn vị I6:\")\n",
        "print(I6)\n",
        "print(\"\\nKích thước của A (số phần tử):\", A.size)\n",
        "print(\"\\nĐường chéo chính của A:\", np.diagonal(A))\n",
        "A = A + I6\n",
        "print(\"\\nMa trận A sau khi cộng với I6:\")\n",
        "print(A)\n",
        "np.set_printoptions(precision=2, suppress=True)\n",
        "# Tạo ma trận A\n",
        "A = np.reshape(np.arange(36.0), (6, 6)) + np.identity(6)\n",
        "\n",
        "# Vector vecB\n",
        "vecB = np.array([1., 2., 3., 4., 5., 6.])\n",
        "C = A.dot(vecB)\n",
        "print(\"vecB =\")\n",
        "print(vecB)\n",
        "print(\"\\nC = A × vecB:\")\n",
        "print(C)\n",
        "\n",
        "# Khai báo ma trận D\n",
        "D = np.array([[1., 2., 3., 4., 5., 6.], [1., 0., 1., 0., 1., 0.]])\n",
        "print(\"\\nMa trận D:\")\n",
        "print(D)\n",
        "E = A.dot(D.T)\n",
        "print(\"\\nE = A × D.T:\")\n",
        "print(E)\n",
        "# Khai báo ma trận F (6x2)\n",
        "F = np.array([\n",
        "    [1., 1.],\n",
        "    [2., 0.],\n",
        "    [3., 1.],\n",
        "    [4., 0.],\n",
        "    [5., 1.],\n",
        "    [6., 0.]\n",
        "])\n",
        "print(\"\\nMa trận F:\")\n",
        "print(F)\n",
        "G = A.dot(F)\n",
        "print(\"\\nG = A × F:\")\n",
        "print(G)\n",
        "A_inv = np.linalg.inv(A)\n",
        "print(\"\\nMa trận nghịch đảo A⁻¹:\")\n",
        "print(A_inv)\n",
        "A_double_inv = np.linalg.inv(np.linalg.inv(A))\n",
        "print(\"\\nnp.linalg.inv(np.linalg.inv(A)):\")\n",
        "print(A_double_inv)\n",
        "print(\"\\nA ≈ inv(inv(A))\", np.allclose(A, A_double_inv))"
      ],
      "metadata": {
        "colab": {
          "base_uri": "https://localhost:8080/"
        },
        "id": "1o5cXtFb2RY8",
        "outputId": "5638758a-6adc-4d7d-aa21-12fe727aba3c"
      },
      "execution_count": 17,
      "outputs": [
        {
          "output_type": "stream",
          "name": "stdout",
          "text": [
            "Ma trận A:\n",
            "[[ 0.  1.  2.  3.  4.  5.]\n",
            " [ 6.  7.  8.  9. 10. 11.]\n",
            " [12. 13. 14. 15. 16. 17.]\n",
            " [18. 19. 20. 21. 22. 23.]\n",
            " [24. 25. 26. 27. 28. 29.]\n",
            " [30. 31. 32. 33. 34. 35.]]\n",
            "\n",
            "Ma trận đơn vị I6:\n",
            "[[1. 0. 0. 0. 0. 0.]\n",
            " [0. 1. 0. 0. 0. 0.]\n",
            " [0. 0. 1. 0. 0. 0.]\n",
            " [0. 0. 0. 1. 0. 0.]\n",
            " [0. 0. 0. 0. 1. 0.]\n",
            " [0. 0. 0. 0. 0. 1.]]\n",
            "\n",
            "Kích thước của A (số phần tử): 36\n",
            "\n",
            "Đường chéo chính của A: [ 0.  7. 14. 21. 28. 35.]\n",
            "\n",
            "Ma trận A sau khi cộng với I6:\n",
            "[[ 1.  1.  2.  3.  4.  5.]\n",
            " [ 6.  8.  8.  9. 10. 11.]\n",
            " [12. 13. 15. 15. 16. 17.]\n",
            " [18. 19. 20. 22. 22. 23.]\n",
            " [24. 25. 26. 27. 29. 29.]\n",
            " [30. 31. 32. 33. 34. 36.]]\n",
            "vecB =\n",
            "[1. 2. 3. 4. 5. 6.]\n",
            "\n",
            "C = A × vecB:\n",
            "[ 71. 198. 325. 452. 579. 706.]\n",
            "\n",
            "Ma trận D:\n",
            "[[1. 2. 3. 4. 5. 6.]\n",
            " [1. 0. 1. 0. 1. 0.]]\n",
            "\n",
            "E = A × D.T:\n",
            "[[ 71.   7.]\n",
            " [198.  24.]\n",
            " [325.  43.]\n",
            " [452.  60.]\n",
            " [579.  79.]\n",
            " [706.  96.]]\n",
            "\n",
            "Ma trận F:\n",
            "[[1. 1.]\n",
            " [2. 0.]\n",
            " [3. 1.]\n",
            " [4. 0.]\n",
            " [5. 1.]\n",
            " [6. 0.]]\n",
            "\n",
            "G = A × F:\n",
            "[[ 71.   7.]\n",
            " [198.  24.]\n",
            " [325.  43.]\n",
            " [452.  60.]\n",
            " [579.  79.]\n",
            " [706.  96.]]\n",
            "\n",
            "Ma trận nghịch đảo A⁻¹:\n",
            "[[ 0.37 -0.46 -0.28 -0.11  0.06  0.24]\n",
            " [-0.45  0.66 -0.24 -0.13 -0.03  0.08]\n",
            " [-0.26 -0.23  0.81 -0.15 -0.12 -0.08]\n",
            " [-0.08 -0.11 -0.15  0.82 -0.21 -0.24]\n",
            " [ 0.1   0.   -0.1  -0.2   0.7  -0.4 ]\n",
            " [ 0.29  0.12 -0.05 -0.22 -0.39  0.44]]\n",
            "\n",
            "np.linalg.inv(np.linalg.inv(A)):\n",
            "[[ 1.  1.  2.  3.  4.  5.]\n",
            " [ 6.  8.  8.  9. 10. 11.]\n",
            " [12. 13. 15. 15. 16. 17.]\n",
            " [18. 19. 20. 22. 22. 23.]\n",
            " [24. 25. 26. 27. 29. 29.]\n",
            " [30. 31. 32. 33. 34. 36.]]\n",
            "\n",
            "A ≈ inv(inv(A)) True\n"
          ]
        }
      ]
    },
    {
      "cell_type": "code",
      "source": [
        "#4 Bài toán ứng dụng 2 – Tính toán dãy Fibonacci: Con đường tìm đến tỉ số vàng\n",
        "import numpy as np\n",
        "A = np.array([[1, 1], [1, 0]])\n",
        "b = np.array([1, 0])\n",
        "n = 10\n",
        "print(\"Fibonacci:\")\n",
        "print(\"F(0) = 0\")\n",
        "print(\"F(1) = 1\")\n",
        "for i in range(n):\n",
        "    b = A.dot(b)\n",
        "    print(f\"F({i + 2}) = {b[1]}\")\n"
      ],
      "metadata": {
        "colab": {
          "base_uri": "https://localhost:8080/"
        },
        "id": "Jf4RECnY3luf",
        "outputId": "1eff96d3-d127-40d0-a906-d478d051b53b"
      },
      "execution_count": 18,
      "outputs": [
        {
          "output_type": "stream",
          "name": "stdout",
          "text": [
            "Fibonacci:\n",
            "F(0) = 0\n",
            "F(1) = 1\n",
            "F(2) = 1\n",
            "F(3) = 1\n",
            "F(4) = 2\n",
            "F(5) = 3\n",
            "F(6) = 5\n",
            "F(7) = 8\n",
            "F(8) = 13\n",
            "F(9) = 21\n",
            "F(10) = 34\n",
            "F(11) = 55\n"
          ]
        }
      ]
    },
    {
      "cell_type": "code",
      "source": [
        "#5 Đếm số lượng xe vào khu vực trung tâm\n",
        "import sympy as sp\n",
        "from sympy import Symbol, solve\n",
        "x1, x2, x3, x4 = sp.symbols('x1 x2 x3 x4')\n",
        "pt1 = x4 + 610 - 450 - x1\n",
        "pt2 = x1 + 400 - x2 - 640\n",
        "pt3 = x2 + 600 - x3\n",
        "pt4 = x3 - x4 - 520\n",
        "# Giải hệ\n",
        "nghiem = solve((pt1, pt2, pt3, pt4))\n",
        "print(\"Nghiệm hệ phương trình:\")\n",
        "print(nghiem)\n"
      ],
      "metadata": {
        "colab": {
          "base_uri": "https://localhost:8080/"
        },
        "id": "sMAoJI_f4NKu",
        "outputId": "9ed68385-a210-41fa-b461-a040e6f6a12d"
      },
      "execution_count": 19,
      "outputs": [
        {
          "output_type": "stream",
          "name": "stdout",
          "text": [
            "Nghiệm hệ phương trình:\n",
            "{x1: x4 + 160, x2: x4 - 80, x3: x4 + 520}\n"
          ]
        }
      ]
    },
    {
      "cell_type": "code",
      "source": [
        "#Bai tap 1\n",
        "import numpy as np\n",
        "A1 = np.array([[1, -1], [2, 3]])\n",
        "B1 = np.array([-2, 6])\n",
        "nghiem1 = np.linalg.solve(A1, B1)\n",
        "print(\"Problem 1 - Giao điểm hai đường thẳng:\", nghiem1)\n",
        "A2 = np.array([[1, -1, 0],\n",
        "               [2, -1, -1],\n",
        "               [1, 1, 1]])\n",
        "B2 = np.array([2, 3, 6])\n",
        "nghiem2 = np.linalg.solve(A2, B2)\n",
        "print(\"Problem 2 - Giao điểm ba mặt phẳng:\", nghiem2)\n",
        "A3 = np.array([[1, 1, 1],\n",
        "               [4, 2, 1],\n",
        "               [9, 3, 1]])\n",
        "B3 = np.array([4, 3, 4])\n",
        "nghiem3 = np.linalg.solve(A3, B3)\n",
        "print(\"Problem 3 - Hệ số đa thức ax² + bx + c:\", nghiem3)\n",
        "\n",
        "A4 = np.array([[1, 0, 1],\n",
        "               [1, 1, -2],\n",
        "               [-2, 2, 1]])\n",
        "B4 = np.array([1, -3, 0])\n",
        "nghiem4 = np.linalg.solve(A4, B4)\n",
        "print(\"Problem 4 - Phân tích phân số: a, b, c =\", nghiem4)\n"
      ],
      "metadata": {
        "colab": {
          "base_uri": "https://localhost:8080/"
        },
        "id": "3MVMpRhC9RYl",
        "outputId": "c872af39-8ad0-423c-8a7f-76a77b2fe742"
      },
      "execution_count": 21,
      "outputs": [
        {
          "output_type": "stream",
          "name": "stdout",
          "text": [
            "Problem 1 - Giao điểm hai đường thẳng: [0. 2.]\n",
            "Problem 2 - Giao điểm ba mặt phẳng: [3. 1. 2.]\n",
            "Problem 3 - Hệ số đa thức ax² + bx + c: [ 1. -4.  7.]\n",
            "Problem 4 - Phân tích phân số: a, b, c = [-0.11 -0.67  1.11]\n"
          ]
        }
      ]
    },
    {
      "cell_type": "code",
      "source": [
        "#Bai tap 2\n",
        "import sympy as sp\n",
        "x, y = sp.symbols('x y')\n",
        "pt1 = x - y + 2\n",
        "pt2 = 2*x + 3*y - 6\n",
        "nghiem1 = sp.solve([pt1, pt2], (x, y))\n",
        "print(\"Problem 1 - Giao điểm hai đường thẳng:\", nghiem1)\n",
        "x, y, z = sp.symbols('x y z')\n",
        "pt1 = x - y - 2\n",
        "pt2 = 2*x - y - z - 3\n",
        "pt3 = x + y + z - 6\n",
        "nghiem2 = sp.solve([pt1, pt2, pt3], (x, y, z))\n",
        "print(\"Problem 2 - Giao điểm ba mặt phẳng:\", nghiem2)\n",
        "a, b, c = sp.symbols('a b c')\n",
        "pt1 = a + b + c - 4\n",
        "pt2 = 4*a + 2*b + c - 3\n",
        "pt3 = 9*a + 3*b + c - 4\n",
        "nghiem3 = sp.solve([pt1, pt2, pt3], (a, b, c))\n",
        "print(\"Problem 3 - Hệ số đa thức ax² + bx + c:\", nghiem3)\n",
        "a, b, c = sp.symbols('a b c')\n",
        "pt1 = a + c - 1\n",
        "pt2 = a + b - 2*c + 3\n",
        "pt3 = -2*a + 2*b + c\n",
        "nghiem4 = sp.solve([pt1, pt2, pt3], (a, b, c))\n",
        "print(\"Problem 4 - Phân tích phân số:\", nghiem4)"
      ],
      "metadata": {
        "colab": {
          "base_uri": "https://localhost:8080/"
        },
        "id": "n0jQWIJl9k7S",
        "outputId": "a58b9a1e-f750-4ead-dacb-328e282ede32"
      },
      "execution_count": 22,
      "outputs": [
        {
          "output_type": "stream",
          "name": "stdout",
          "text": [
            "Problem 1 - Giao điểm hai đường thẳng: {x: 0, y: 2}\n",
            "Problem 2 - Giao điểm ba mặt phẳng: {x: 3, y: 1, z: 2}\n",
            "Problem 3 - Hệ số đa thức ax² + bx + c: {a: 1, b: -4, c: 7}\n",
            "Problem 4 - Phân tích phân số: {a: -1/9, b: -2/3, c: 10/9}\n"
          ]
        }
      ]
    },
    {
      "cell_type": "code",
      "source": [
        "#Bai tap 3\n",
        "import numpy as np\n",
        "def matrix_power_fibonacci(k):\n",
        "    F = np.array([[1, 1], [1, 0]])\n",
        "    result = np.linalg.matrix_power(F, k)\n",
        "    return result\n",
        "def fibonacci_up_to(n):\n",
        "    fib = [0, 1]\n",
        "    for i in range(2, n + 2):\n",
        "        fib.append(fib[-1] + fib[-2])\n",
        "    return fib\n",
        "k = 5\n",
        "Fk = matrix_power_fibonacci(k)\n",
        "print(f\"F^{k} =\\n\", Fk)\n",
        "fib = fibonacci_up_to(k+1)\n",
        "print(\"\\nKiểm chứng:\")\n",
        "print(\"F[k][0][0] = Fib[k+1] =\", Fk[0][0], \"==\", fib[k+1])\n",
        "print(\"F[k][0][1] = Fib[k]   =\", Fk[0][1], \"==\", fib[k])\n",
        "print(\"F[k][1][0] = Fib[k]   =\", Fk[1][0], \"==\", fib[k])\n",
        "print(\"F[k][1][1] = Fib[k-1] =\", Fk[1][1], \"==\", fib[k-1])\n"
      ],
      "metadata": {
        "id": "wv6yNhUz-Yhp"
      },
      "execution_count": null,
      "outputs": []
    }
  ]
}
