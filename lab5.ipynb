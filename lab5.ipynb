{
  "nbformat": 4,
  "nbformat_minor": 0,
  "metadata": {
    "colab": {
      "provenance": []
    },
    "kernelspec": {
      "name": "python3",
      "display_name": "Python 3"
    },
    "language_info": {
      "name": "python"
    }
  },
  "cells": [
    {
      "cell_type": "code",
      "execution_count": null,
      "metadata": {
        "colab": {
          "base_uri": "https://localhost:8080/"
        },
        "id": "QPupGWaj4oYF",
        "outputId": "025218b3-fccd-487d-9850-225f1bed8e2c"
      },
      "outputs": [
        {
          "output_type": "stream",
          "name": "stdout",
          "text": [
            "[[1 2]\n",
            " [3 4]]\n"
          ]
        }
      ],
      "source": [
        "#bai 1.1\n",
        "import numpy as np\n",
        "D = np.array([[1, 2], [3, 4]])\n",
        "E = np.empty_like(D) # Define E with the same shape and type as D\n",
        "try:\n",
        "    np.copyto(E, D)\n",
        "except NameError as e:\n",
        "    print(\"Lỗi:\", e)\n",
        "print(E)"
      ]
    },
    {
      "cell_type": "code",
      "source": [
        "#bai 1.2\n",
        "import numpy as np\n",
        "x = np.array([['a','b'],['c','d']])\n",
        "y = 'x'\n",
        "C = np.array([[x, y], [1, 2]], dtype=object)\n",
        "print(C)"
      ],
      "metadata": {
        "colab": {
          "base_uri": "https://localhost:8080/"
        },
        "id": "H5anDULE52_i",
        "outputId": "32969636-7b6f-4ed5-8986-e490a49f511e"
      },
      "execution_count": null,
      "outputs": [
        {
          "output_type": "stream",
          "name": "stdout",
          "text": [
            "[[array([['a', 'b'],\n",
            "         ['c', 'd']], dtype='<U1') 'x']\n",
            " [1 2]]\n"
          ]
        }
      ]
    },
    {
      "cell_type": "code",
      "source": [
        "#bai 2\n",
        "from numpy import matlib\n",
        "G = matlib.identity(5)\n",
        "print(\"Ma trận G (identity 5x5):\")\n",
        "print(G)\n",
        "H = matlib.randn(3, 2)\n",
        "print(\"\\nMa trận H (randn 3x2):\")\n",
        "print(H)\n",
        "K = matlib.zeros([4, 4])\n",
        "print(\"\\nMa trận K (zeros 4x4):\")\n",
        "print(K)\n"
      ],
      "metadata": {
        "colab": {
          "base_uri": "https://localhost:8080/"
        },
        "id": "RhlQQT5b6dwa",
        "outputId": "50b4bc9c-0375-4053-8122-a07e0d24678b"
      },
      "execution_count": null,
      "outputs": [
        {
          "output_type": "stream",
          "name": "stdout",
          "text": [
            "Ma trận G (identity 5x5):\n",
            "[[1. 0. 0. 0. 0.]\n",
            " [0. 1. 0. 0. 0.]\n",
            " [0. 0. 1. 0. 0.]\n",
            " [0. 0. 0. 1. 0.]\n",
            " [0. 0. 0. 0. 1.]]\n",
            "\n",
            "Ma trận H (randn 3x2):\n",
            "[[-0.47109716 -0.35000926]\n",
            " [-0.34721031 -1.34573933]\n",
            " [-0.69421785  0.88762946]]\n",
            "\n",
            "Ma trận K (zeros 4x4):\n",
            "[[0. 0. 0. 0.]\n",
            " [0. 0. 0. 0.]\n",
            " [0. 0. 0. 0.]\n",
            " [0. 0. 0. 0.]]\n"
          ]
        }
      ]
    },
    {
      "cell_type": "code",
      "source": [
        "#bai 2.2\n",
        "import numpy as np\n",
        "c = [3, 7, 15, 1, 292, 1, 1, 1, 2, 1, 3, 1, 14, 2]\n",
        "for i in range(len(c)):\n",
        "    ci = np.asmatrix([[1, 1], [1, 0]])\n",
        "    ci[0, 0] = c[i]\n",
        "    if i == 0:\n",
        "        M = ci\n",
        "    else:\n",
        "        M = M @ ci\n",
        "print(\"Ma trận kết quả:\")\n",
        "print(M)\n",
        "approx_pi = M[0, 0] / M[1, 0]\n",
        "print(\"\\nGiá trị Pi xấp xỉ:\")\n",
        "print(approx_pi)\n"
      ],
      "metadata": {
        "colab": {
          "base_uri": "https://localhost:8080/"
        },
        "id": "54TWKwbI7JvK",
        "outputId": "dfaa4e15-3d0a-4367-8cb5-09122b97b955"
      },
      "execution_count": null,
      "outputs": [
        {
          "output_type": "stream",
          "name": "stdout",
          "text": [
            "Ma trận kết quả:\n",
            "[[165707065  80143857]\n",
            " [ 52746197  25510582]]\n",
            "\n",
            "Giá trị Pi xấp xỉ:\n",
            "3.1415926535897936\n"
          ]
        }
      ]
    },
    {
      "cell_type": "code",
      "source": [
        "#bai tap chuong\n",
        "#bai 1\n",
        "import numpy as np\n",
        "from numpy import linalg\n",
        "def bpcuctieu(a):\n",
        "    b = []\n",
        "    o1 = []\n",
        "    for i in range(len(a)):\n",
        "        o1.append(1.0)\n",
        "        b.append(i * 1.0)\n",
        "    x = np.array([o1, b])\n",
        "    u = np.dot(x, x.T)\n",
        "    y = np.array(a)\n",
        "    u_inv = np.linalg.inv(u)\n",
        "    v = np.dot(u_inv, x)\n",
        "    A = np.dot(v, y)\n",
        "    return A\n",
        "dulieu = [10.0, 8, 7, 5, 2]\n",
        "A = bpcuctieu(dulieu)\n",
        "print(\"Phương trình tuyến tính: y = {:.1f} + {:.1f} * x\".format(A[0], A[1]))"
      ],
      "metadata": {
        "colab": {
          "base_uri": "https://localhost:8080/"
        },
        "id": "nCpdstjF9Czx",
        "outputId": "eb0daf78-3ca6-4c8e-c67c-8607f4040f82"
      },
      "execution_count": null,
      "outputs": [
        {
          "output_type": "stream",
          "name": "stdout",
          "text": [
            "Phương trình tuyến tính: y = 10.2 + -1.9 * x\n"
          ]
        }
      ]
    },
    {
      "cell_type": "code",
      "source": [],
      "metadata": {
        "id": "qSaIatYN9Eks"
      },
      "execution_count": null,
      "outputs": []
    }
  ]
}