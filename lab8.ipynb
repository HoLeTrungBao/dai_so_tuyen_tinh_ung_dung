{
  "nbformat": 4,
  "nbformat_minor": 0,
  "metadata": {
    "colab": {
      "provenance": []
    },
    "kernelspec": {
      "name": "python3",
      "display_name": "Python 3"
    },
    "language_info": {
      "name": "python"
    }
  },
  "cells": [
    {
      "cell_type": "code",
      "execution_count": null,
      "metadata": {
        "colab": {
          "base_uri": "https://localhost:8080/"
        },
        "id": "DzUafxNs-ZOT",
        "outputId": "a4b51d39-e52d-4a8d-98f8-b082a500dba4"
      },
      "outputs": [
        {
          "output_type": "stream",
          "name": "stdout",
          "text": [
            "Kết quả câu a: x = [ 18 -11   9  -8]\n",
            "Kết quả câu b: x = [ 3.  -3.5  4.5 -1. ]\n"
          ]
        }
      ],
      "source": [
        "#bai 1\n",
        "import numpy as np\n",
        "\n",
        "# Khai báo các vector\n",
        "u = np.array([2, -1, 5, 0])\n",
        "v = np.array([4, 3, 1, -1])\n",
        "w = np.array([-6, 2, 0, 3])\n",
        "# Câu a\n",
        "x_a = 2 * u - (v + 3 * w)\n",
        "print(\"Kết quả câu a: x =\", x_a)\n",
        "# Câu b\n",
        "x_b = 0.5 * (2 * u - v - w)\n",
        "print(\"Kết quả câu b: x =\", x_b)\n"
      ]
    },
    {
      "cell_type": "code",
      "source": [
        "#bai 2\n",
        "import numpy as np\n",
        "from numpy import linalg\n",
        "A = np.array([\n",
        "    [0, -1, 3],\n",
        "    [1, 1, 1],\n",
        "    [4, 2, 2]\n",
        "])\n",
        "B = np.array([-1, -2, -2])\n",
        "X = np.linalg.solve(A, B)\n",
        "print(\"Nghiệm của hệ là: [λ, μ, γ] =\", X)\n",
        "print(f\"→ x = {X[0]:.3f}·u + {X[1]:.3f}·v + {X[2]:.3f}·w\")\n"
      ],
      "metadata": {
        "colab": {
          "base_uri": "https://localhost:8080/"
        },
        "id": "pfTgbODe-q1_",
        "outputId": "3506e7c0-23ab-4444-bc9f-2b3c2102bf43"
      },
      "execution_count": 12,
      "outputs": [
        {
          "output_type": "stream",
          "name": "stdout",
          "text": [
            "Nghiệm của hệ là: [λ, μ, γ] = [ 1. -2. -1.]\n",
            "→ x = 1.000·u + -2.000·v + -1.000·w\n"
          ]
        }
      ]
    },
    {
      "cell_type": "code",
      "source": [
        "#bai 3\n",
        "import numpy as np\n",
        "from numpy import linalg as LA\n",
        "A = np.matrix([[1, 0], [0, 0]])\n",
        "B = np.matrix([[0, 0], [0, 1]])\n",
        "print(\"A =\\n\", A)\n",
        "print(\"B =\\n\", B)\n",
        "print(\"A+B =\\n\", A+B)\n",
        "print(\"\\n--- Phương pháp 1: Thử nghịch đảo ---\")\n",
        "try:\n",
        "    print(\"Nghịch đảo A =\\n\", LA.inv(A))\n",
        "except Exception as e:\n",
        "    print(\"A không khả nghịch:\", e)\n",
        "try:\n",
        "    print(\"Nghịch đảo B =\\n\", LA.inv(B))\n",
        "except Exception as e:\n",
        "    print(\"B không khả nghịch:\", e)\n",
        "try:\n",
        "    print(\"Nghịch đảo (A+B) =\\n\", LA.inv(A+B))\n",
        "except Exception as e:\n",
        "    print(\"(A+B) không khả nghịch:\", e)\n",
        "print(\"\\n--- Phương pháp 2: Tính định thức ---\")\n",
        "det_A = LA.det(A)\n",
        "det_B = LA.det(B)\n",
        "det_AB = LA.det(A+B)\n",
        "print(\"det(A) =\", det_A)\n",
        "print(\"det(B) =\", det_B)\n",
        "print(\"det(A+B) =\", det_AB)\n"
      ],
      "metadata": {
        "colab": {
          "base_uri": "https://localhost:8080/"
        },
        "id": "NLEOEE5R-4gA",
        "outputId": "af7fe95a-5ef3-4582-f7c6-8b6585a3e5fa"
      },
      "execution_count": null,
      "outputs": [
        {
          "output_type": "stream",
          "name": "stdout",
          "text": [
            "A =\n",
            " [[1 0]\n",
            " [0 0]]\n",
            "B =\n",
            " [[0 0]\n",
            " [0 1]]\n",
            "A+B =\n",
            " [[1 0]\n",
            " [0 1]]\n",
            "\n",
            "--- Phương pháp 1: Thử nghịch đảo ---\n",
            "A không khả nghịch: Singular matrix\n",
            "B không khả nghịch: Singular matrix\n",
            "Nghịch đảo (A+B) =\n",
            " [[1. 0.]\n",
            " [0. 1.]]\n",
            "\n",
            "--- Phương pháp 2: Tính định thức ---\n",
            "det(A) = 0.0\n",
            "det(B) = 0.0\n",
            "det(A+B) = 1.0\n"
          ]
        }
      ]
    },
    {
      "cell_type": "code",
      "source": [
        "#bai 4\n",
        "import sympy as sp\n",
        "\n",
        "# Khai báo các biến\n",
        "x, y = sp.symbols('x y')\n",
        "x1, y1 = sp.symbols('x1 y1')\n",
        "x2, y2 = sp.symbols('x2 y2')\n",
        "c = sp.symbols('c')\n",
        "\n",
        "# Ma trận đối xứng tổng quát\n",
        "A = sp.Matrix([[x, y], [y, x]])\n",
        "A1 = sp.Matrix([[x1, y1], [y1, x1]])\n",
        "A2 = sp.Matrix([[x2, y2], [y2, x2]])\n",
        "\n",
        "print(\"Ma trận A1:\")\n",
        "sp.pprint(A1)\n",
        "\n",
        "print(\"\\nMa trận chuyển vị của A1 (A1.T):\")\n",
        "sp.pprint(A1.T)\n",
        "\n",
        "print(\"\\nMa trận chuyển vị của (A1 + A2):\")\n",
        "sp.pprint((A1 + A2).T)\n",
        "\n",
        "print(\"\\n(A1 + A2).T == (A1 + A2) ?\")\n",
        "print(((A1 + A2).T).equals(A1 + A2))\n",
        "\n",
        "print(\"\\nMa trận c * A:\")\n",
        "sp.pprint(c * A)\n",
        "\n",
        "print(\"\\n(c*A).T == c*A ?\")\n",
        "print(((c*A).T).equals(c*A))\n",
        "\n"
      ],
      "metadata": {
        "colab": {
          "base_uri": "https://localhost:8080/"
        },
        "id": "L-u8GN2__GXh",
        "outputId": "6d0d452a-25af-454f-e542-96381e737356"
      },
      "execution_count": null,
      "outputs": [
        {
          "output_type": "stream",
          "name": "stdout",
          "text": [
            "Ma trận A1:\n",
            "⎡x₁  y₁⎤\n",
            "⎢      ⎥\n",
            "⎣y₁  x₁⎦\n",
            "\n",
            "Ma trận chuyển vị của A1 (A1.T):\n",
            "⎡x₁  y₁⎤\n",
            "⎢      ⎥\n",
            "⎣y₁  x₁⎦\n",
            "\n",
            "Ma trận chuyển vị của (A1 + A2):\n",
            "⎡x₁ + x₂  y₁ + y₂⎤\n",
            "⎢                ⎥\n",
            "⎣y₁ + y₂  x₁ + x₂⎦\n",
            "\n",
            "(A1 + A2).T == (A1 + A2) ?\n",
            "True\n",
            "\n",
            "Ma trận c * A:\n",
            "⎡c⋅x  c⋅y⎤\n",
            "⎢        ⎥\n",
            "⎣c⋅y  c⋅x⎦\n",
            "\n",
            "(c*A).T == c*A ?\n",
            "True\n"
          ]
        }
      ]
    },
    {
      "cell_type": "code",
      "source": [
        "#bai 5\n",
        "import numpy as np\n",
        "from numpy.linalg import solve, LinAlgError\n",
        "u1 = np.array([1, 2, 3])\n",
        "u2 = np.array([0, 1, 2])\n",
        "u3 = np.array([-1, 0, 1])\n",
        "# Xếp thành ma trận\n",
        "A = np.column_stack([u1, u2, u3])\n",
        "print(\"Ma trận cơ sở A =\")\n",
        "print(A)\n",
        "# Trường hợp a\n",
        "v1 = np.array([1,1,1])\n",
        "print(\"\\nKiểm tra v = (1,1,1):\")\n",
        "try:\n",
        "    x1 = solve(A, v1)\n",
        "    print(\"Nghiệm tìm được:\", x1)\n",
        "    print(\"→ v là tổ hợp tuyến tính của u1, u2, u3\")\n",
        "except LinAlgError:\n",
        "    print(\"→ v không là tổ hợp tuyến tính của u1, u2, u3\")\n",
        "# Trường hợp b\n",
        "v2 = np.array([1,-2,2])\n",
        "print(\"\\nKiểm tra v = (1,-2,2):\")\n",
        "try:\n",
        "    x2 = solve(A, v2)\n",
        "    print(\"Nghiệm tìm được:\", x2)\n",
        "    print(\"→ v là tổ hợp tuyến tính của u1, u2, u3\")\n",
        "except LinAlgError:\n",
        "    print(\"→ v không là tổ hợp tuyến tính của u1, u2, u3\")\n"
      ],
      "metadata": {
        "colab": {
          "base_uri": "https://localhost:8080/"
        },
        "id": "N7YgoAlx_9Jz",
        "outputId": "8b25a565-25e9-49a2-d900-cfd6c2d6ba82"
      },
      "execution_count": null,
      "outputs": [
        {
          "output_type": "stream",
          "name": "stdout",
          "text": [
            "Ma trận cơ sở A =\n",
            "[[ 1  0 -1]\n",
            " [ 2  1  0]\n",
            " [ 3  2  1]]\n",
            "\n",
            "Kiểm tra v = (1,1,1):\n",
            "Nghiệm tìm được: [ 5.00000000e-01 -1.66533454e-16 -5.00000000e-01]\n",
            "→ v là tổ hợp tuyến tính của u1, u2, u3\n",
            "\n",
            "Kiểm tra v = (1,-2,2):\n",
            "Nghiệm tìm được: [ 3.15251974e+16 -6.30503948e+16  3.15251974e+16]\n",
            "→ v là tổ hợp tuyến tính của u1, u2, u3\n"
          ]
        }
      ]
    },
    {
      "cell_type": "code",
      "source": [
        "#bai 6\n",
        "import sympy as sp\n",
        "c1, c2, c3 = sp.symbols('c1 c2 c3')\n",
        "u1 = [1, 2, 3]\n",
        "u2 = [0, 1, 2]\n",
        "u3 = [-2, 0, 1]\n",
        "\n",
        "eq1 = c1*1 + c2*0 + c3*(-2)\n",
        "eq2 = c1*2 + c2*1 + c3*0\n",
        "eq3 = c1*3 + c2*2 + c3*1\n",
        "\n",
        "solution = sp.solve([eq1, eq2, eq3], (c1, c2, c3))\n",
        "\n",
        "print(\"Nghiệm của hệ phương trình là:\")\n",
        "print(solution)\n",
        "\n",
        "if all(v == 0 for v in solution.values()):\n",
        "    print(\"Các vector là ĐỘC LẬP TUYẾN TÍNH.\")\n",
        "else:\n",
        "    print(\" Các vector là PHỤ THUỘC TUYẾN TÍNH.\")\n"
      ],
      "metadata": {
        "colab": {
          "base_uri": "https://localhost:8080/"
        },
        "id": "Xbi6c_zKBEZ3",
        "outputId": "1bb6bd5c-7190-4473-a59e-244806b5e8f5"
      },
      "execution_count": 8,
      "outputs": [
        {
          "output_type": "stream",
          "name": "stdout",
          "text": [
            "Nghiệm của hệ phương trình là:\n",
            "{c1: 0, c2: 0, c3: 0}\n",
            "Các vector là ĐỘC LẬP TUYẾN TÍNH.\n"
          ]
        }
      ]
    },
    {
      "cell_type": "code",
      "source": [
        "#bai 7\n",
        "import sympy as sp\n",
        "c1, c2 = sp.symbols('c1 c2')\n",
        "u1, u2 = sp.symbols('u1 u2')\n",
        "print(\" Kiểm tra tập sinh (với u1, u2 tổng quát):\")\n",
        "solution_general = sp.solve([c1 + c2 - u1, c1 - c2 - u2], (c1, c2))\n",
        "print(solution_general)\n",
        "print(\"\\n Kiểm tra độc lập tuyến tính (với u1=0, u2=0):\")\n",
        "u1_val = 0\n",
        "u2_val = 0\n",
        "solution_zero = sp.solve(\n",
        "    [c1 + c2 - u1_val, c1 - c2 - u2_val],\n",
        "    (c1, c2)\n",
        ")\n",
        "print(solution_zero)\n",
        "\n",
        "# Kết luận\n",
        "if all(v == 0 for v in solution_zero.values()):\n",
        "    print(\"\\nHai vector vừa sinh ra toàn bộ ℝ² vừa độc lập tuyến tính - Là một cơ sở.\")\n",
        "else:\n",
        "    print(\"\\nKhông phải cơ sở.\")\n"
      ],
      "metadata": {
        "colab": {
          "base_uri": "https://localhost:8080/"
        },
        "id": "Yr7KEQh9BYOQ",
        "outputId": "c69b8c4c-6f41-4f29-dbb7-4efdd40afab0"
      },
      "execution_count": 10,
      "outputs": [
        {
          "output_type": "stream",
          "name": "stdout",
          "text": [
            " Kiểm tra tập sinh (với u1, u2 tổng quát):\n",
            "{c1: u1/2 + u2/2, c2: u1/2 - u2/2}\n",
            "\n",
            " Kiểm tra độc lập tuyến tính (với u1=0, u2=0):\n",
            "{c1: 0, c2: 0}\n",
            "\n",
            "Hai vector vừa sinh ra toàn bộ ℝ² vừa độc lập tuyến tính - Là một cơ sở.\n"
          ]
        }
      ]
    },
    {
      "cell_type": "code",
      "source": [
        "#bai 2a\n",
        "import numpy as np\n",
        "import matplotlib.pyplot as plt\n",
        "F = np.array([\n",
        "    [0, 0, 0, 1, 1, 0, 0, 0.5, 0.5, 0, 0],  # x\n",
        "    [0, 3, 4, 4, 3, 3, 2, 2, 1, 1, 0]       # y\n",
        "])\n",
        "\n",
        "A = np.array([\n",
        "    [0, 1],\n",
        "    [1, -1]\n",
        "])\n",
        "\n",
        "F_trans = A @ F\n",
        "\n",
        "plt.figure(figsize=(8,8))\n",
        "plt.plot(F[0], F[1], 'b', label='F ban đầu')\n",
        "plt.plot(F_trans[0], F_trans[1], 'r', label='F sau biến đổi')\n",
        "\n",
        "plt.xlabel('x')\n",
        "plt.ylabel('y')\n",
        "plt.title(\"Biến đổi: x' = y, y' = x-y\")\n",
        "plt.legend()\n",
        "plt.grid(True)\n",
        "plt.gca().set_aspect('equal')\n",
        "plt.show()\n"
      ],
      "metadata": {
        "colab": {
          "base_uri": "https://localhost:8080/",
          "height": 720
        },
        "id": "QawLHUFsBnZ6",
        "outputId": "e39687e3-0c11-40a9-b128-f2bb99f2baf7"
      },
      "execution_count": 31,
      "outputs": [
        {
          "output_type": "display_data",
          "data": {
            "text/plain": [
              "<Figure size 800x800 with 1 Axes>"
            ],
            "image/png": "[encoded data removed]"
          },
          "metadata": {}
        }
      ]
    },
    {
      "cell_type": "code",
      "source": [
        "#bai 2 b\n",
        "import numpy as np\n",
        "import matplotlib.pyplot as plt\n",
        "\n",
        "\n",
        "F = np.array([\n",
        "    [0, 0], [0, 5], [1, 5], [1, 1], [2, 1],\n",
        "    [2, 0], [0, 0], [0, 5], [3, 5], [3, 4],\n",
        "    [1, 4], [1, 3], [3, 3], [3, 2], [2, 2],\n",
        "    [2, 1], [1,1]\n",
        "]).T\n",
        "\n",
        "A = np.array([[0,1], [1,-1]])\n",
        "F_trans = A @ F\n",
        "\n",
        "plt.figure(figsize=(8,8))\n",
        "plt.plot(F[0], F[1], 'b-', label='Gốc')\n",
        "plt.plot(F_trans[0], F_trans[1], 'r-', label='Sau biến đổi')\n",
        "\n",
        "plt.axhline(0, color='gray', lw=0.5)\n",
        "plt.axvline(0, color='gray', lw=0.5)\n",
        "plt.grid(True)\n",
        "plt.axis('equal')\n",
        "plt.legend()\n",
        "plt.title(\"Biến đổi (x,y) ↦ (y, x-y)\")\n",
        "plt.show()\n"
      ],
      "metadata": {
        "colab": {
          "base_uri": "https://localhost:8080/",
          "height": 701
        },
        "id": "VcroQiY4DjWf",
        "outputId": "f4e71777-9623-444b-cd94-e7525b1c0f87"
      },
      "execution_count": 32,
      "outputs": [
        {
          "output_type": "display_data",
          "data": {
            "text/plain": [
              "<Figure size 800x800 with 1 Axes>"
            ],
            "image/png": "[encoded data removed]"
          },
          "metadata": {}
        }
      ]
    },
    {
      "cell_type": "code",
      "source": [
        "#cau 2 c\n",
        "import numpy as np\n",
        "import matplotlib.pyplot as plt\n",
        "\n",
        "F = np.array([\n",
        "    [0, 0], [0, 5], [1, 5], [1, 1], [2, 1],\n",
        "    [2, 0], [0, 0], [0, 5], [3, 5], [3, 4],\n",
        "    [1, 4], [1, 3], [3, 3], [3, 2], [2, 2],\n",
        "    [2, 1], [1,1]\n",
        "]).T\n",
        "\n",
        "\n",
        "A = np.array([[-1, 0],\n",
        "              [ 0, 1]])\n",
        "\n",
        "\n",
        "V = np.array([[4], [0]])\n",
        "\n",
        "F_trans = A @ F + V\n",
        "\n",
        "plt.figure(figsize=(8,8))\n",
        "plt.plot(F[0], F[1], 'b-', label='Gốc')\n",
        "plt.plot(F_trans[0], F_trans[1], 'r-', label='Sau biến đổi (c)')\n",
        "\n",
        "plt.axhline(0, color='gray', lw=0.5)\n",
        "plt.axvline(0, color='gray', lw=0.5)\n",
        "plt.grid(True)\n",
        "plt.axis('equal')\n",
        "plt.legend()\n",
        "plt.title(\"Biến đổi (c): đối xứng trục x + tịnh tiến\")\n",
        "plt.show()\n",
        "\n"
      ],
      "metadata": {
        "colab": {
          "base_uri": "https://localhost:8080/",
          "height": 701
        },
        "id": "8j6-6ZemDyJ6",
        "outputId": "dc37a1c6-3205-4200-b604-bfa6b32ec799"
      },
      "execution_count": 34,
      "outputs": [
        {
          "output_type": "display_data",
          "data": {
            "text/plain": [
              "<Figure size 800x800 with 1 Axes>"
            ],
            "image/png": "[encoded data removed]"
          },
          "metadata": {}
        }
      ]
    },
    {
      "cell_type": "code",
      "source": [
        "#cau 2 d\n",
        "import numpy as np\n",
        "import matplotlib.pyplot as plt\n",
        "\n",
        "def shear_matrix_x(shear_factor):\n",
        "    return np.array([[1, shear_factor],\n",
        "                     [0, 1]])\n",
        "\n",
        "points = np.array([[0, 0], [1, 0], [1, 1], [0, 1], [0, 0]]).T\n",
        "\n",
        "\n",
        "shear_factor = 1.5\n",
        "shear_mat = shear_matrix_x(shear_factor)\n",
        "\n",
        "transformed_points = shear_mat @ points\n",
        "\n",
        "plt.figure(figsize=(6, 6))\n",
        "plt.plot(points[0], points[1], 'b-o', label='Original')\n",
        "plt.plot(transformed_points[0], transformed_points[1], 'r-o', label='Sheared')\n",
        "plt.grid(True)\n",
        "plt.xlabel('x-axis')\n",
        "plt.ylabel('y-axis')\n",
        "plt.legend()\n",
        "plt.title('Shear Transformation (x-axis, shear factor = 1.5)')\n",
        "plt.axis('equal')\n",
        "plt.show()\n",
        "\n",
        "print(\"Shear Matrix (x-axis, shear factor = 1.5):\")\n",
        "print(shear_mat)\n",
        "print(\"\\nOriginal Points:\")\n",
        "print(points.T)\n",
        "print(\"\\nTransformed Points:\")\n",
        "print(transformed_points.T)\n"
      ],
      "metadata": {
        "colab": {
          "base_uri": "https://localhost:8080/",
          "height": 859
        },
        "id": "SMYjU1ivEZRp",
        "outputId": "d8dfc7e5-7ecf-4d8c-a372-177b03c4bd1c"
      },
      "execution_count": 35,
      "outputs": [
        {
          "output_type": "display_data",
          "data": {
            "text/plain": [
              "<Figure size 600x600 with 1 Axes>"
            ],
            "image/png": "[encoded data removed]"
          },
          "metadata": {}
        },
        {
          "output_type": "stream",
          "name": "stdout",
          "text": [
            "Shear Matrix (x-axis, shear factor = 1.5):\n",
            "[[1.  1.5]\n",
            " [0.  1. ]]\n",
            "\n",
            "Original Points:\n",
            "[[0 0]\n",
            " [1 0]\n",
            " [1 1]\n",
            " [0 1]\n",
            " [0 0]]\n",
            "\n",
            "Transformed Points:\n",
            "[[0.  0. ]\n",
            " [1.  0. ]\n",
            " [2.5 1. ]\n",
            " [1.5 1. ]\n",
            " [0.  0. ]]\n"
          ]
        }
      ]
    },
    {
      "cell_type": "code",
      "source": [
        "#bai 3.2\n",
        "import numpy as np\n",
        "import sympy as sp\n",
        "\n",
        "S, T = sp.symbols('S T')\n",
        "eqs = [S + 3*T -4, 2*S +5*T -5]\n",
        "sol = sp.solve(eqs, [S, T])\n",
        "print(\"3.2 Tổ hợp tuyến tính:\", sol)\n",
        "\n",
        "f1 = np.array([1,1,2])\n",
        "f2 = np.array([4,2,1])\n",
        "f35 = sol[S]*f1 + sol[T]*f2\n",
        "print(\"f(4,5) =\", f35)\n"
      ],
      "metadata": {
        "colab": {
          "base_uri": "https://localhost:8080/"
        },
        "id": "52UR54QfEoWw",
        "outputId": "596a318d-55a4-47e0-86ed-4ac008cb8f53"
      },
      "execution_count": 17,
      "outputs": [
        {
          "output_type": "stream",
          "name": "stdout",
          "text": [
            "3.2 Tổ hợp tuyến tính: {S: -5, T: 3}\n",
            "f(4,5) = [7 1 -7]\n"
          ]
        }
      ]
    },
    {
      "cell_type": "code",
      "source": [
        "#bai 3.3\n",
        "a, b, x, y = sp.symbols('a b x y')\n",
        "sol_ab = sp.solve([a+3*b-x, 2*a+5*b-y], [a,b])\n",
        "print(\" a,b theo x,y:\", sol_ab)\n",
        "\n",
        "\n",
        "fu1 = np.array([1,1,2])\n",
        "fu2 = np.array([4,2,1])\n",
        "fu = sol_ab[a]*fu1 + sol_ab[b]*fu2\n",
        "print(\"f(x,y) =\", fu)\n"
      ],
      "metadata": {
        "colab": {
          "base_uri": "https://localhost:8080/"
        },
        "id": "KBCecIrIFR3k",
        "outputId": "c355c29b-fca8-47f1-b317-b0a734b0fda7"
      },
      "execution_count": 18,
      "outputs": [
        {
          "output_type": "stream",
          "name": "stdout",
          "text": [
            "3.3 a,b theo x,y: {a: -5*x + 3*y, b: 2*x - y}\n",
            "f(x,y) = [3*x - y -x + y -8*x + 5*y]\n"
          ]
        }
      ]
    },
    {
      "cell_type": "code",
      "source": [
        "#bai 3.4\n",
        "x1, x2, x3 = sp.symbols('x1 x2 x3')\n",
        "eqs_ker = [x1+x2-x3, 2*x1+3*x2-x3, 3*x1+5*x2-x3]\n",
        "sol_ker = sp.solve(eqs_ker, [x1,x2,x3])\n",
        "print(\"3.4 Kernel:\", sol_ker)\n",
        "\n",
        "x3_val = 1\n",
        "x1_val = sol_ker[x1].subs(x3, x3_val)\n",
        "x2_val = sol_ker[x2].subs(x3, x3_val)\n",
        "print(\"Vector trong Ker(f):\", (x1_val, x2_val, x3_val))\n"
      ],
      "metadata": {
        "colab": {
          "base_uri": "https://localhost:8080/"
        },
        "id": "TeJ0l9uRFWf4",
        "outputId": "a8857a30-c026-404a-8a4c-7dc7b60f3d2d"
      },
      "execution_count": 19,
      "outputs": [
        {
          "output_type": "stream",
          "name": "stdout",
          "text": [
            "3.4 Kernel: {x1: 2*x3, x2: -x3}\n",
            "Vector trong Ker(f): (2, -1, 1)\n"
          ]
        }
      ]
    },
    {
      "cell_type": "code",
      "source": [
        "#bai 3.5\n",
        "import numpy as np\n",
        "\n",
        "f1 = np.array([1, 1, 2])\n",
        "f2 = np.array([4, 2, 1])\n",
        "\n",
        "print(\"3.5 Image of f is the span of:\")\n",
        "print(\"f(u1) =\", f1)\n",
        "print(\"f(u2) =\", f2)\n",
        "\n",
        "print(\"Therefore, Im(f) = span{ f(u1), f(u2) }\")\n"
      ],
      "metadata": {
        "colab": {
          "base_uri": "https://localhost:8080/"
        },
        "id": "j51w7A8wFcGb",
        "outputId": "025f0c22-a04b-497e-d355-1c0e9714871b"
      },
      "execution_count": 21,
      "outputs": [
        {
          "output_type": "stream",
          "name": "stdout",
          "text": [
            "3.5 Image of f is the span of:\n",
            "f(u1) = [1 1 2]\n",
            "f(u2) = [4 2 1]\n",
            "Therefore, Im(f) = span{ f(u1), f(u2) }\n"
          ]
        }
      ]
    },
    {
      "cell_type": "code",
      "source": [
        "#bai 3.6\n",
        "\n",
        "f_u1 = np.array([-2,-1])\n",
        "f_u2 = np.array([1,1])\n",
        "\n",
        "a1, b1 = sp.symbols('a1 b1')\n",
        "a2, b2 = sp.symbols('a2 b2')\n",
        "\n",
        "# với f_u1\n",
        "eqs1 = [a1*1 + b1*1 +2, a1*2 + b1*3 +1]\n",
        "sol1 = sp.solve(eqs1, [a1,b1])\n",
        "print(\"3.6 tọa độ f(u1) theo F:\", sol1)\n",
        "\n",
        "# với f_u2\n",
        "eqs2 = [a2*1 + b2*1 -1, a2*2 + b2*3 -1]\n",
        "sol2 = sp.solve(eqs2, [a2,b2])\n",
        "print(\"3.6 tọa độ f(u2) theo F:\", sol2)\n",
        "\n",
        "# Ma trận A\n",
        "A = np.array([\n",
        "    [sol1[a1], sol2[a2]],\n",
        "    [sol1[b1], sol2[b2]]\n",
        "])\n",
        "print(\"3.6 Ma trận A =\\n\", A)"
      ],
      "metadata": {
        "colab": {
          "base_uri": "https://localhost:8080/"
        },
        "id": "60xZB5lEFtOW",
        "outputId": "40c5a06f-9059-44eb-8c31-655b728b1688"
      },
      "execution_count": 23,
      "outputs": [
        {
          "output_type": "stream",
          "name": "stdout",
          "text": [
            "3.6 tọa độ f(u1) theo F: {a1: -5, b1: 3}\n",
            "3.6 tọa độ f(u2) theo F: {a2: 2, b2: -1}\n",
            "3.6 Ma trận A =\n",
            " [[-5 2]\n",
            " [3 -1]]\n"
          ]
        }
      ]
    },
    {
      "cell_type": "code",
      "source": [
        "#bai 4\n",
        "import numpy as np\n",
        "A = 5\n",
        "B = -6\n",
        "C = 5\n",
        "D = 14*np.sqrt(2)\n",
        "E = -2*np.sqrt(2)\n",
        "F = 18\n",
        "\n",
        "if A != C:\n",
        "    tan2theta = B / (A - C)\n",
        "    theta = 0.5 * np.arctan(tan2theta)\n",
        "else:\n",
        "    theta = np.pi/4\n",
        "\n",
        "cos_t = np.cos(theta)\n",
        "sin_t = np.sin(theta)\n",
        "\n",
        "print(f\"Góc xoay (radian): {theta}\")\n",
        "print(f\"cos(θ) = {cos_t}\")\n",
        "print(f\"sin(θ) = {sin_t}\")\n",
        "\n",
        "R = np.array([\n",
        "    [cos_t, -sin_t],\n",
        "    [sin_t, cos_t]\n",
        "])\n",
        "\n",
        "print(\"Ma trận xoay R:\")\n",
        "print(R)\n",
        "\n",
        "\n",
        "Q = np.array([[A, B/2],\n",
        "              [B/2, C]])\n",
        "\n",
        "print(\"Ma trận hệ số bậc 2 ban đầu Q:\")\n",
        "print(Q)\n",
        "\n",
        "\n",
        "Q_new = R.T @ Q @ R\n",
        "print(\"Ma trận hệ số bậc 2 sau xoay Q_new:\")\n",
        "print(Q_new)\n",
        "\n",
        "A_new = Q_new[0,0]\n",
        "B_new = 2*Q_new[0,1]\n",
        "C_new = Q_new[1,1]\n",
        "\n",
        "linear = np.array([D, E])\n",
        "linear_new = R.T @ linear\n",
        "\n",
        "D_new = linear_new[0]\n",
        "E_new = linear_new[1]\n",
        "\n",
        "print(f\"Phương trình sau xoay: {A_new} x'^2 + {B_new} x'y' + {C_new} y'^2 + {D_new} x' + {E_new} y' + {F} = 0\")\n"
      ],
      "metadata": {
        "colab": {
          "base_uri": "https://localhost:8080/"
        },
        "id": "nOtsYIB8GNV7",
        "outputId": "074ef41a-0588-4713-9e98-abd1744ae540"
      },
      "execution_count": 24,
      "outputs": [
        {
          "output_type": "stream",
          "name": "stdout",
          "text": [
            "Góc xoay (radian): 0.7853981633974483\n",
            "cos(θ) = 0.7071067811865476\n",
            "sin(θ) = 0.7071067811865475\n",
            "Ma trận xoay R:\n",
            "[[ 0.70710678 -0.70710678]\n",
            " [ 0.70710678  0.70710678]]\n",
            "Ma trận hệ số bậc 2 ban đầu Q:\n",
            "[[ 5. -3.]\n",
            " [-3.  5.]]\n",
            "Ma trận hệ số bậc 2 sau xoay Q_new:\n",
            "[[ 2.00000000e+00 -5.56356169e-16]\n",
            " [-8.11722909e-17  8.00000000e+00]]\n",
            "Phương trình sau xoay: 1.9999999999999998 x'^2 + -1.1127123387538509e-15 x'y' + 8.0 y'^2 + 12.000000000000002 x' + -15.999999999999998 y' + 18 = 0\n"
          ]
        }
      ]
    },
    {
      "cell_type": "code",
      "source": [
        "#bai tap chuong - cau 1\n",
        "import numpy as np\n",
        "def g(v):\n",
        "    x, y, z = v\n",
        "    return np.array([x + y, z + 2, 0])\n",
        "\n",
        "\n",
        "u0 = np.array([0,0,0])\n",
        "print(\"g(0) =\", g(u0))\n",
        "\n",
        "u1 = np.array([1,0,0])\n",
        "u2 = np.array([0,1,0])\n",
        "print(\"g(u1) + g(u2) =\", g(u1) + g(u2))\n",
        "print(\"g(u1+u2) =\", g(u1+u2))\n",
        "\n",
        "c = 2\n",
        "print(\"c*g(u1) =\", c*g(u1))\n",
        "print(\"g(c*u1) =\", g(c*u1))\n"
      ],
      "metadata": {
        "colab": {
          "base_uri": "https://localhost:8080/"
        },
        "id": "3PY5zi8DGuRn",
        "outputId": "a391f700-32df-48ae-9793-9c20eef01c98"
      },
      "execution_count": 25,
      "outputs": [
        {
          "output_type": "stream",
          "name": "stdout",
          "text": [
            "g(0) = [0 2 0]\n",
            "g(u1) + g(u2) = [2 4 0]\n",
            "g(u1+u2) = [2 2 0]\n",
            "c*g(u1) = [2 4 0]\n",
            "g(c*u1) = [2 2 0]\n"
          ]
        }
      ]
    },
    {
      "cell_type": "code",
      "source": [
        "#bai tap chuong - cau 2\n",
        "import numpy as np\n",
        "\n",
        "F = np.array([\n",
        "    [0, 1, 2, 3],\n",
        "    [0, 1, 2, 3]\n",
        "])\n",
        "\n",
        "T = np.array([\n",
        "    [0, 1],\n",
        "    [1, -1]\n",
        "])\n",
        "\n",
        "F_transformed = T @ F\n",
        "\n",
        "print(\"Tập điểm ban đầu F:\\n\", F)\n",
        "print(\"\\nMa trận biến đổi T:\\n\", T)\n",
        "print(\"\\nTập điểm sau biến đổi T*F:\\n\", F_transformed)\n",
        "\n"
      ],
      "metadata": {
        "colab": {
          "base_uri": "https://localhost:8080/"
        },
        "id": "s1wwy_fMG1Fx",
        "outputId": "c6895425-ba4f-4544-e6dd-21890c057741"
      },
      "execution_count": 26,
      "outputs": [
        {
          "output_type": "stream",
          "name": "stdout",
          "text": [
            "Tập điểm ban đầu F:\n",
            " [[0 1 2 3]\n",
            " [0 1 2 3]]\n",
            "\n",
            "Ma trận biến đổi T:\n",
            " [[ 0  1]\n",
            " [ 1 -1]]\n",
            "\n",
            "Tập điểm sau biến đổi T*F:\n",
            " [[0 1 2 3]\n",
            " [0 0 0 0]]\n"
          ]
        }
      ]
    },
    {
      "cell_type": "code",
      "source": [
        "#bai tap chuong - cau 3\n",
        "import sympy as sp\n",
        "\n",
        "v1, v2 = sp.symbols('v1 v2')\n",
        "u1, u2 = sp.symbols('u1 u2')\n",
        "c = sp.symbols('c')\n",
        "\n",
        "\n",
        "def T(x1, x2):\n",
        "    return sp.Matrix([x1 - x2, x1 + 2*x2])\n",
        "\n",
        "u = sp.Matrix([u1, u2])\n",
        "v = sp.Matrix([v1, v2])\n",
        "\n",
        "T_u_plus_v = T(u[0] + v[0], u[1] + v[1])\n",
        "T_u_plus_T_v = T(u[0], u[1]) + T(v[0], v[1])\n",
        "\n",
        "print(\"T(u+v):\", T_u_plus_v)\n",
        "print(\"T(u) + T(v):\", T_u_plus_T_v)\n",
        "print(\"T(u+v) == T(u) + T(v)?\", sp.simplify(T_u_plus_v - T_u_plus_T_v) == sp.Matrix([0,0]))\n",
        "\n",
        "T_cu = T(c*u[0], c*u[1])\n",
        "c_T_u = c * T(u[0], u[1])\n",
        "\n",
        "print(\"T(cu):\", T_cu)\n",
        "print(\"c*T(u):\", c_T_u)\n",
        "print(\"T(cu) == c*T(u)?\", sp.simplify(T_cu - c_T_u) == sp.Matrix([0,0]))\n"
      ],
      "metadata": {
        "colab": {
          "base_uri": "https://localhost:8080/"
        },
        "id": "-viDVqHjGdLr",
        "outputId": "b2fb69ca-2c1a-4037-bab4-733d59fc15b2"
      },
      "execution_count": 28,
      "outputs": [
        {
          "output_type": "stream",
          "name": "stdout",
          "text": [
            "T(u+v): Matrix([[u1 - u2 + v1 - v2], [u1 + 2*u2 + v1 + 2*v2]])\n",
            "T(u) + T(v): Matrix([[u1 - u2 + v1 - v2], [u1 + 2*u2 + v1 + 2*v2]])\n",
            "T(u+v) == T(u) + T(v)? True\n",
            "T(cu): Matrix([[c*u1 - c*u2], [c*u1 + 2*c*u2]])\n",
            "c*T(u): Matrix([[c*(u1 - u2)], [c*(u1 + 2*u2)]])\n",
            "T(cu) == c*T(u)? True\n"
          ]
        }
      ]
    },
    {
      "cell_type": "code",
      "source": [
        "#bai tap chuong - cau 4\n",
        "import numpy as np\n",
        "from scipy.linalg import eig\n",
        "a = 5\n",
        "b = -6\n",
        "c = 5\n",
        "d = 14*np.sqrt(2)\n",
        "e = -2*np.sqrt(2)\n",
        "f = 18\n",
        "\n",
        "A = np.array([[a, b/2],\n",
        "              [b/2, c]])\n",
        "d_e = np.array([d, e])\n",
        "\n",
        "print(\"Ma trận A:\")\n",
        "print(A)\n",
        "\n",
        "eigvals, P = eig(A)\n",
        "\n",
        "print(\"\\nTrị riêng (λ1, λ2):\", eigvals)\n",
        "print(\"Ma trận trực giao P (các vectơ riêng):\")\n",
        "print(P)\n",
        "\n",
        "D = np.diag(eigvals)\n",
        "\n",
        "print(\"\\nMa trận đường chéo D:\")\n",
        "print(D)\n",
        "\n",
        "print(f\"\\nPhương trình conic trong hệ mới:\")\n",
        "print(f\"{eigvals[0]:.2f}*(x')² + {eigvals[1]:.2f}*(y')² + … = 0\")\n"
      ],
      "metadata": {
        "id": "UHvoJQM2H4WF"
      },
      "execution_count": null,
      "outputs": []
    },
    {
      "cell_type": "code",
      "source": [
        "#bai tap chuong - cau 5\n",
        "import numpy as np\n",
        "import matplotlib.pyplot as plt\n",
        "\n",
        "\n",
        "A = np.array([[13, -5],\n",
        "              [-5, 13]])\n",
        "\n",
        "eigvals, eigvecs = np.linalg.eigh(A)\n",
        "\n",
        "\n",
        "a = np.sqrt(72 / eigvals[0])\n",
        "b = np.sqrt(72 / eigvals[1])\n",
        "\n",
        "theta = np.arctan2(eigvecs[1,0], eigvecs[0,0])\n",
        "\n",
        "print(f\"Góc xoay (deg): {np.degrees(theta):.2f}\")\n",
        "\n",
        "\n",
        "t = np.linspace(0, 2*np.pi, 400)\n",
        "x = a * np.cos(t)\n",
        "y = b * np.sin(t)\n",
        "\n",
        "R = np.array([[np.cos(theta), -np.sin(theta)],\n",
        "              [np.sin(theta), np.cos(theta)]])\n",
        "xy = R @ np.array([x, y])\n",
        "\n",
        "\n",
        "plt.figure(figsize=(6,6))\n",
        "plt.plot(xy[0,:], xy[1,:])\n",
        "plt.title(\"Ellipse đã xoay\")\n",
        "plt.xlabel(\"x\")\n",
        "plt.ylabel(\"y\")\n",
        "plt.gca().set_aspect('equal')\n",
        "plt.grid()\n",
        "plt.show()\n",
        "\n"
      ],
      "metadata": {
        "colab": {
          "base_uri": "https://localhost:8080/",
          "height": 581
        },
        "id": "LTSmQOCzIXPW",
        "outputId": "aeb8f620-f8e4-4f02-b32b-8da87911b496"
      },
      "execution_count": 30,
      "outputs": [
        {
          "output_type": "stream",
          "name": "stdout",
          "text": [
            "Góc xoay (deg): -135.00\n"
          ]
        },
        {
          "output_type": "display_data",
          "data": {
            "text/plain": [
              "<Figure size 600x600 with 1 Axes>"
            ],
            "image/png": "[encoded data removed]"
          },
          "metadata": {}
        }
      ]
    }
  ]
}