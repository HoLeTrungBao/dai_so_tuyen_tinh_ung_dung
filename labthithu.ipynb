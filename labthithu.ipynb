{
  "nbformat": 4,
  "nbformat_minor": 0,
  "metadata": {
    "colab": {
      "provenance": []
    },
    "kernelspec": {
      "name": "python3",
      "display_name": "Python 3"
    },
    "language_info": {
      "name": "python"
    }
  },
  "cells": [
    {
      "cell_type": "code",
      "execution_count": 2,
      "metadata": {
        "colab": {
          "base_uri": "https://localhost:8080/"
        },
        "id": "ijRaHoekDljd",
        "outputId": "4aec1aa8-a785-47c1-b1c7-cf3abd134a0c"
      },
      "outputs": [
        {
          "output_type": "stream",
          "name": "stdout",
          "text": [
            "a) A + B = [ 3.   2.7 -2.5]\n",
            "   3A - 2B = [  4.  -11.9   5. ]\n",
            "b) A · B = -3.2\n",
            "   Góc giữa A và B (độ) = 106.154\n",
            "c) C^T C =\n",
            " [[ 5  0 -1]\n",
            " [ 0 14 10]\n",
            " [-1 10 17]]\n"
          ]
        }
      ],
      "source": [
        "#bai 2\n",
        "import numpy as np\n",
        "A = np.array([2, -1.3, 0])\n",
        "B = np.array([1, 4, -2.5])\n",
        "C = np.array([[1, 2, -1],\n",
        "              [0, 3, 4],\n",
        "              [2, -1, 0]])\n",
        "# a) Tính A + B và 3A - 2B\n",
        "sum_AB = A + B\n",
        "scalar_expr = 3 * A - 2 * B\n",
        "print(\"a) A + B =\", sum_AB)\n",
        "print(\"   3A - 2B =\", scalar_expr)\n",
        "# b) Tính tích vô hướng A · B và góc giữa hai vector\n",
        "dot_product = np.dot(A, B)\n",
        "norm_A = np.linalg.norm(A)\n",
        "norm_B = np.linalg.norm(B)\n",
        "cos_theta = dot_product / (norm_A * norm_B)\n",
        "theta_rad = np.arccos(cos_theta)\n",
        "theta_deg = np.degrees(theta_rad)\n",
        "print(\"b) A · B =\", dot_product)\n",
        "print(\"   Góc giữa A và B (độ) =\", round(theta_deg, 3))\n",
        "# c) Tính C^T C\n",
        "CtC = np.dot(C.T, C)\n",
        "print(\"c) C^T C =\\n\", CtC)\n"
      ]
    },
    {
      "cell_type": "code",
      "source": [
        "#bai 2\n",
        "import numpy as np\n",
        "M = np.array([\n",
        "    [1, 2, 3, 0],\n",
        "    [4, 5, 6, 1],\n",
        "    [7, 8, 9, 2],\n",
        "    [0, 1, 1, 0]\n",
        "])\n",
        "N = np.array([\n",
        "    [0, 1, 2, 3],\n",
        "    [4, 5, 6, 7],\n",
        "    [8, 9, 10, 11],\n",
        "    [12, 13, 14, 15]\n",
        "])\n",
        "# a) Tính tích M × N\n",
        "product_MN = np.dot(M, N)\n",
        "print(\"a) Tích M × N =\\n\", product_MN)\n",
        "# b) Tính định thức của M\n",
        "try:\n",
        "    det_M = np.linalg.det(M)\n",
        "    print(\"\\nb) Định thức của M =\", round(det_M, 3))\n",
        "except np.linalg.LinAlgError as e:\n",
        "    print(\"\\nb) Không thể tính định thức vì:\", e)\n",
        "# c) Tính hạng của ma trận N\n",
        "rank_N = np.linalg.matrix_rank(N)\n",
        "print(\"\\nc) Hạng của N =\", rank_N)\n"
      ],
      "metadata": {
        "colab": {
          "base_uri": "https://localhost:8080/"
        },
        "id": "mIOVO2FDESta",
        "outputId": "3622d6a7-0c24-4c16-b517-0ff4513ddfc4"
      },
      "execution_count": 3,
      "outputs": [
        {
          "output_type": "stream",
          "name": "stdout",
          "text": [
            "a) Tích M × N =\n",
            " [[ 32  38  44  50]\n",
            " [ 80  96 112 128]\n",
            " [128 154 180 206]\n",
            " [ 12  14  16  18]]\n",
            "\n",
            "b) Định thức của M = 0.0\n",
            "\n",
            "c) Hạng của N = 2\n"
          ]
        }
      ]
    },
    {
      "cell_type": "code",
      "source": [
        "#bai 3\n",
        "import numpy as np\n",
        "P = np.array([\n",
        "    [2, 1, 0, 1],\n",
        "    [0, 3, 1, -1],\n",
        "    [1, 0, 4, 2],\n",
        "    [0, 1, 0, 3]\n",
        "])\n",
        "b = np.array([4, 7, 9, 5])  # Vector hệ số bên phải của hệ phương trình\n",
        "# a) Tìm ma trận nghịch đảo của P\n",
        "try:\n",
        "    P_inv = np.linalg.inv(P)\n",
        "    print(\"a) Ma trận nghịch đảo của P:\\n\", P_inv)\n",
        "except np.linalg.LinAlgError:\n",
        "    print(\"a) Ma trận P không khả nghịch (không tồn tại ma trận nghịch đảo).\")\n",
        "# b) Giải hệ phương trình P * x = b bằng nghịch đảo ma trận\n",
        "x = np.dot(P_inv, b)\n",
        "print(\"\\nb) Nghiệm của hệ phương trình là:\\n\", x)\n",
        "# c) Kiểm tra nghiệm: P * x có bằng b không?\n",
        "b_check = np.dot(P, x)\n",
        "print(\"\\nc) Kiểm tra lại: P * x =\\n\", b_check)\n",
        "print(\"   So với vector b ban đầu:\\n\", b)\n"
      ],
      "metadata": {
        "colab": {
          "base_uri": "https://localhost:8080/"
        },
        "id": "cBQm59UXFOG7",
        "outputId": "523bffe9-ddd2-41f5-ffe5-23ef4c9f0dca"
      },
      "execution_count": 4,
      "outputs": [
        {
          "output_type": "stream",
          "name": "stdout",
          "text": [
            "a) Ma trận nghịch đảo của P:\n",
            " [[ 0.48837209 -0.09302326  0.02325581 -0.20930233]\n",
            " [ 0.03488372  0.27906977 -0.06976744  0.12790698]\n",
            " [-0.11627907  0.06976744  0.23255814 -0.09302326]\n",
            " [-0.01162791 -0.09302326  0.02325581  0.29069767]]\n",
            "\n",
            "b) Nghiệm của hệ phương trình là:\n",
            " [0.46511628 2.10465116 1.65116279 0.96511628]\n",
            "\n",
            "c) Kiểm tra lại: P * x =\n",
            " [4. 7. 9. 5.]\n",
            "   So với vector b ban đầu:\n",
            " [4 7 9 5]\n"
          ]
        }
      ]
    },
    {
      "cell_type": "code",
      "source": [
        "#bai 4\n",
        "import numpy as np\n",
        "Q = np.array([[4, -1, 0],\n",
        "              [1, 3, -2],\n",
        "              [0, 1, 2]])\n",
        "\n",
        "# a) Tìm giá trị riêng của Q\n",
        "eigenvalues = np.linalg.eigvals(Q)\n",
        "print(\"a) Giá trị riêng của Q:\", eigenvalues)\n",
        "# b) Tìm vector riêng tương ứng\n",
        "eigenvalues, eigenvectors = np.linalg.eig(Q)\n",
        "print(\"\\nb) Vector riêng tương ứng:\")\n",
        "for i in range(len(eigenvalues)):\n",
        "    print(f\"Giá trị riêng {eigenvalues[i]}: {eigenvectors[:, i]}\")\n",
        "# c) Chuẩn hóa vector riêng (vector đơn vị)\n",
        "normalized_vectors = []\n",
        "for vector in eigenvectors.T:\n",
        "    norm = np.linalg.norm(vector)\n",
        "    normalized_vector = vector / norm\n",
        "    normalized_vectors.append(normalized_vector)\n",
        "print(\"\\nc) Vector riêng chuẩn hóa:\")\n",
        "for i, vec in enumerate(normalized_vectors):\n",
        "    print(f\"Vector riêng {i+1} chuẩn hóa: {vec}\")\n"
      ],
      "metadata": {
        "colab": {
          "base_uri": "https://localhost:8080/"
        },
        "id": "9gnetzrYGtux",
        "outputId": "f8b46881-bbbd-4c33-9d22-8dfd8a13a2ea"
      },
      "execution_count": 10,
      "outputs": [
        {
          "output_type": "stream",
          "name": "stdout",
          "text": [
            "a) Giá trị riêng của Q: [3.45339765+0.j         2.77330117+1.46771151j 2.77330117-1.46771151j]\n",
            "\n",
            "b) Vector riêng tương ứng:\n",
            "Giá trị riêng (3.4533976515164015+0j): [0.83327121+0.j 0.455468  +0.j 0.31338154+0.j]\n",
            "Giá trị riêng (2.773301174241798+1.4677115087102246j): [-0.26206044-0.31354813j -0.78166743+0.j         -0.21963176+0.41685708j]\n",
            "Giá trị riêng (2.773301174241798-1.4677115087102246j): [-0.26206044+0.31354813j -0.78166743-0.j         -0.21963176-0.41685708j]\n",
            "\n",
            "c) Vector riêng chuẩn hóa:\n",
            "Vector riêng 1 chuẩn hóa: [0.83327121+0.j 0.455468  +0.j 0.31338154+0.j]\n",
            "Vector riêng 2 chuẩn hóa: [-0.26206044-0.31354813j -0.78166743+0.j         -0.21963176+0.41685708j]\n",
            "Vector riêng 3 chuẩn hóa: [-0.26206044+0.31354813j -0.78166743+0.j         -0.21963176-0.41685708j]\n"
          ]
        }
      ]
    },
    {
      "cell_type": "code",
      "source": [
        "#bai 5\n",
        "import numpy as np\n",
        "R = np.array([[1, -2, 3], [0, 1, 4], [-1, 1, -1]])\n",
        "b = np.array([10, 8, 7])\n",
        "z = np.linalg.solve(R, b)\n",
        "print(\"a) Giải hệ phương trình Rz = b: z =\", z)\n",
        "det_R = np.linalg.det(R)\n",
        "is_invertible = det_R != 0\n",
        "print(\"\\nb) Ma trận R có khả nghịch không? (True/False):\", is_invertible)\n",
        "if is_invertible:\n",
        "    print(\"Nghịch đảo của ma trận R:\")\n",
        "    R_inv = np.linalg.inv(R)\n",
        "    print(R_inv)\n",
        "frobenius_norm = np.linalg.norm(R, 'fro')\n",
        "print(\"\\nc) Chuỗi Frobenius của ma trận R:\", frobenius_norm)"
      ],
      "metadata": {
        "colab": {
          "base_uri": "https://localhost:8080/"
        },
        "id": "zJqN1liVLGK6",
        "outputId": "6cb1519b-7338-4101-c24a-84d55f143f9a"
      },
      "execution_count": 14,
      "outputs": [
        {
          "output_type": "stream",
          "name": "stdout",
          "text": [
            "a) Giải hệ phương trình Rz = b: z = [-19.83333333  -8.66666667   4.16666667]\n",
            "\n",
            "b) Ma trận R có khả nghịch không? (True/False): True\n",
            "Nghịch đảo của ma trận R:\n",
            "[[-0.83333333  0.16666667 -1.83333333]\n",
            " [-0.66666667  0.33333333 -0.66666667]\n",
            " [ 0.16666667  0.16666667  0.16666667]]\n",
            "\n",
            "c) Chuỗi Frobenius của ma trận R: 5.830951894845301\n"
          ]
        }
      ]
    }
  ]
}